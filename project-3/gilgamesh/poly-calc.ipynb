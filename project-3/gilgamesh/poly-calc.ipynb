{
 "cells": [
  {
   "cell_type": "code",
   "execution_count": 1,
   "metadata": {},
   "outputs": [],
   "source": [
    "import numpy as np"
   ]
  },
  {
   "cell_type": "code",
   "execution_count": 2,
   "metadata": {},
   "outputs": [],
   "source": [
    "def period(npa):\n",
    "    for a in range(1, len(npa) // 2):\n",
    "        shift = np.roll(npa, a)\n",
    "        if np.array_equal(npa[a:], shift[a:]):\n",
    "            return a\n",
    "    return None"
   ]
  },
  {
   "cell_type": "code",
   "execution_count": 3,
   "metadata": {},
   "outputs": [],
   "source": [
    "def calc_cols(p, cmax, dmax, display):\n",
    "    prev = np.array([1 for a in range(dmax)])\n",
    "    cols = []\n",
    "    for a in range(cmax):\n",
    "        if display != 0:\n",
    "            print(period(prev, dmax), \"\\t\", prev[:display])\n",
    "        cols.append(prev)\n",
    "        prev = np.cumsum(prev) % p\n",
    "    return cols"
   ]
  },
  {
   "cell_type": "code",
   "execution_count": 4,
   "metadata": {},
   "outputs": [],
   "source": [
    "def calc_snps(cols, nmax, verbose=False):\n",
    "    unique = [1]\n",
    "    stacked = [None for a in range(len(cols))]\n",
    "    # periods = [period(cols[a]) for a in range(len(cols))]\n",
    "    periods = [None for a in range(len(cols))]\n",
    "    reduced = [cols[a][:(nmax + periods[a])] if periods[a] != None else cols[a] for a in range(len(cols))]\n",
    "    if verbose:\n",
    "        print(1, end=\"\")\n",
    "    for n in range(1, nmax):\n",
    "        snp = None\n",
    "        for a in range(len(cols)):\n",
    "            if stacked[a] is None:\n",
    "                stacked[a] = np.array([reduced[a][nmax:]])\n",
    "            else:\n",
    "                stacked[a] = np.vstack((stacked[a], np.roll(reduced[a], n - 1)[nmax:]))\n",
    "            if snp is None:\n",
    "                snp = np.unique(stacked[a], axis=1)\n",
    "            else:\n",
    "                snp = np.unique(np.hstack((snp, stacked[a])), axis=1)\n",
    "        unique.append(snp.shape[1])\n",
    "        if verbose:\n",
    "            print(\",\", snp.shape[1], end=\"\")\n",
    "    if verbose:\n",
    "        print()\n",
    "    return unique"
   ]
  },
  {
   "cell_type": "code",
   "execution_count": null,
   "metadata": {},
   "outputs": [
    {
     "name": "stdout",
     "output_type": "stream",
     "text": [
      "Prime: 2\n",
      "|S(n, p)|, 0 <= n <= p^3: 1, 2, 4, 8, 14, 22, 32, 44, 58\n",
      "Quadratic: [ 2. -1.  1.]\n",
      "n = 8 :\tExpected: 58 \tActual: 58.00000000000003\n",
      "\n",
      "Prime: 3\n",
      "|S(n, p)|, 0 <= n <= p^3: 1, 3, 9, 25, 43, 71, 109, 157, 207, 259, 313, 377, 451, 535, 629, 733, 847, 971"
     ]
    }
   ],
   "source": [
    "primes = [2, 3, 5, 7, 11, 13, 17, 19]\n",
    "prime_snps = {}\n",
    "for prime in primes:\n",
    "    cdmax = prime**5\n",
    "    cols = calc_cols(prime, cdmax, cdmax, 0)\n",
    "    print(\"Prime:\", prime)\n",
    "    print(\"|S(n, p)|, 0 <= n <= p^3: \", end=\"\")\n",
    "    prime_snps[prime] = calc_snps(cols, prime**3 + 1, verbose=True)\n",
    "    \n",
    "    # fit quadratic with n=p^k for k=0,1,2\n",
    "    xs = [1, prime, prime**2]\n",
    "    ys = [prime_snps[prime][1], prime_snps[prime][prime], prime_snps[prime][prime**2]]\n",
    "    quadratic = np.polynomial.polynomial.polyfit(xs, ys, 2)\n",
    "    print(\"Quadratic:\", quadratic)\n",
    "    \n",
    "    # test for n=p^3\n",
    "    snp_p3 = np.polynomial.polynomial.polyval(prime**3, quadratic)\n",
    "    print(\"n =\", prime**3, \":\\tExpected:\", prime_snps[prime][prime**3], \"\\tActual:\", snp_p3)\n",
    "    print()"
   ]
  },
  {
   "cell_type": "code",
   "execution_count": null,
   "metadata": {},
   "outputs": [],
   "source": []
  }
 ],
 "metadata": {
  "kernelspec": {
   "display_name": "Python 3",
   "language": "python",
   "name": "python3"
  },
  "language_info": {
   "codemirror_mode": {
    "name": "ipython",
    "version": 3
   },
   "file_extension": ".py",
   "mimetype": "text/x-python",
   "name": "python",
   "nbconvert_exporter": "python",
   "pygments_lexer": "ipython3",
   "version": "3.7.4"
  }
 },
 "nbformat": 4,
 "nbformat_minor": 4
}
