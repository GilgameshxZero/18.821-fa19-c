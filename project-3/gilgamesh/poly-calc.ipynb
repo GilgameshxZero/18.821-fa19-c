{
 "cells": [
  {
   "cell_type": "code",
   "execution_count": 75,
   "metadata": {},
   "outputs": [],
   "source": [
    "import numpy as np"
   ]
  },
  {
   "cell_type": "code",
   "execution_count": 76,
   "metadata": {},
   "outputs": [],
   "source": [
    "def period(npa, dmax):\n",
    "    for a in range(1, dmax // 2):\n",
    "        shift = np.roll(npa, a)\n",
    "        if np.array_equal(npa[a:], shift[a:]):\n",
    "            return a\n",
    "    return None"
   ]
  },
  {
   "cell_type": "code",
   "execution_count": 77,
   "metadata": {},
   "outputs": [],
   "source": [
    "def calc_cols(p, cmax, dmax, display):\n",
    "    prev = np.array([1 for a in range(dmax)])\n",
    "    cols = []\n",
    "    for a in range(cmax):\n",
    "        if display != 0:\n",
    "            print(period(prev, dmax), \"\\t\", prev[:display])\n",
    "        cols.append(prev)\n",
    "        prev = np.cumsum(prev) % p\n",
    "    return cols"
   ]
  },
  {
   "cell_type": "code",
   "execution_count": 78,
   "metadata": {},
   "outputs": [],
   "source": [
    "def calc_snp(cols, n):\n",
    "    unique_seqs = None\n",
    "    for a in range(len(cols)):\n",
    "        p = period(cols[a], len(cols[a]))\n",
    "        reduced = cols[a]\n",
    "        rolled = []\n",
    "        for b in range(n):\n",
    "            rolled.append(np.roll(reduced, b)[n:])\n",
    "        stacked = np.vstack(rolled)\n",
    "        unique_this = np.unique(stacked, axis=1)\n",
    "        unique_seqs = unique_this if unique_seqs is None \\\n",
    "            else np.unique(np.hstack((unique_seqs, unique_this)), axis=1)\n",
    "    return unique_seqs.shape[1]"
   ]
  },
  {
   "cell_type": "code",
   "execution_count": null,
   "metadata": {},
   "outputs": [],
   "source": [
    "def calc_snps(cols, nmax):\n",
    "    unique_seqs = [None]\n",
    "    stacked = [cols[a] for a in range(len(cols))]\n",
    "    for n in range(1, nmax):\n",
    "        for a in range(len(cols)):\n",
    "            unique_this = np.unique(stacked[a], axis=1)\n",
    "            stacked[a] = np.hstack((stacked[a], unique_this))\n",
    "            unique_seqs.append(unique_this.shape[1])\n",
    "            rolled = []\n",
    "            for b in range(n):\n",
    "                rolled.append(np.roll(reduced, b)[n:])\n",
    "            stacked = np.vstack(rolled)\n",
    "            unique_seqs = unique_this if unique_seqs is None \\\n",
    "                else np.unique(np.hstack((unique_seqs, unique_this)), axis=1)"
   ]
  },
  {
   "cell_type": "code",
   "execution_count": 79,
   "metadata": {},
   "outputs": [],
   "source": [
    "primes = [2, 3, 5, 7, 11, 13, 17, 19]"
   ]
  },
  {
   "cell_type": "code",
   "execution_count": null,
   "metadata": {},
   "outputs": [
    {
     "name": "stdout",
     "output_type": "stream",
     "text": [
      "Prime: 2\n",
      "1, 2, 4, 8, 14, 22, 32, 44, 58, 74, 92, 112"
     ]
    }
   ],
   "source": [
    "psnps = {}\n",
    "for prime in primes:\n",
    "    snps = [1]\n",
    "    cdmax = prime**6\n",
    "    cols = calc_cols(prime, cdmax, cdmax, 0)\n",
    "    print(\"Prime:\", prime)\n",
    "    print(\"1\", end=\"\")\n",
    "    for n in range(1, prime**4 + 1):\n",
    "        snps.append(calc_snp(cols, n))\n",
    "        print(\",\", snps[-1], end=\"\")\n",
    "    psnps[prime] = snps\n",
    "    print()"
   ]
  },
  {
   "cell_type": "code",
   "execution_count": null,
   "metadata": {},
   "outputs": [],
   "source": []
  }
 ],
 "metadata": {
  "kernelspec": {
   "display_name": "Python 3",
   "language": "python",
   "name": "python3"
  },
  "language_info": {
   "codemirror_mode": {
    "name": "ipython",
    "version": 3
   },
   "file_extension": ".py",
   "mimetype": "text/x-python",
   "name": "python",
   "nbconvert_exporter": "python",
   "pygments_lexer": "ipython3",
   "version": "3.7.4"
  }
 },
 "nbformat": 4,
 "nbformat_minor": 4
}
