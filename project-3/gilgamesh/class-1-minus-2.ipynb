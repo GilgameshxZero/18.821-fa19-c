{
 "cells": [
  {
   "cell_type": "code",
   "execution_count": 1,
   "metadata": {},
   "outputs": [],
   "source": [
    "import numpy as np"
   ]
  },
  {
   "cell_type": "code",
   "execution_count": 2,
   "metadata": {},
   "outputs": [],
   "source": [
    "def period(npa):\n",
    "    for a in range(1, len(npa) // 2):\n",
    "        shift = np.roll(npa, a)\n",
    "        if np.array_equal(npa[a:], shift[a:]):\n",
    "            return a\n",
    "    return None"
   ]
  },
  {
   "cell_type": "code",
   "execution_count": 3,
   "metadata": {},
   "outputs": [],
   "source": [
    "def calc_cols(p, cmax, dmax, verbose):\n",
    "    prev = np.array([1 for a in range(dmax)])\n",
    "    cols = []\n",
    "    for a in range(cmax):\n",
    "        if verbose:\n",
    "            print(period(prev, dmax), \"\\t\", prev[:display])\n",
    "        cols.append(prev)\n",
    "        prev = np.cumsum(prev) % p\n",
    "    return cols"
   ]
  },
  {
   "cell_type": "code",
   "execution_count": 4,
   "metadata": {},
   "outputs": [],
   "source": [
    "def calc_snps(cols, nmax, verbose=False):\n",
    "    unique = [1]\n",
    "    stacked = [None for a in range(len(cols))]\n",
    "    # periods = [period(cols[a]) for a in range(len(cols))]\n",
    "    periods = [None for a in range(len(cols))]\n",
    "    reduced = [cols[a][:(nmax + periods[a])] if periods[a] != None else cols[a] for a in range(len(cols))]\n",
    "    if verbose:\n",
    "        print(1, end=\"\")\n",
    "    for n in range(1, nmax):\n",
    "        snp = None\n",
    "        for a in range(len(cols)):\n",
    "            if stacked[a] is None:\n",
    "                stacked[a] = np.array([reduced[a][nmax:]])\n",
    "            else:\n",
    "                stacked[a] = np.vstack((stacked[a], np.roll(reduced[a], n - 1)[nmax:]))\n",
    "            if snp is None:\n",
    "                snp = np.unique(stacked[a], axis=1)\n",
    "            else:\n",
    "                snp = np.unique(np.hstack((snp, stacked[a])), axis=1)\n",
    "        unique.append(snp.shape[1])\n",
    "        if verbose:\n",
    "            print(\",\", snp.shape[1], end=\"\")\n",
    "    if verbose:\n",
    "        print()\n",
    "    return unique"
   ]
  },
  {
   "cell_type": "code",
   "execution_count": 5,
   "metadata": {},
   "outputs": [],
   "source": [
    "def gen_m(p, n):\n",
    "    cols = calc_cols(p, n, n, False)\n",
    "    shifts = []\n",
    "    for a in range(len(cols)):\n",
    "        shift = np.zeros(cols[a].shape, dtype=np.int)\n",
    "        shift[a:] = cols[a][:-a] if a != 0 else cols[a]\n",
    "        shifts.append(shift)\n",
    "    return np.transpose(np.vstack(shifts))"
   ]
  },
  {
   "cell_type": "code",
   "execution_count": 6,
   "metadata": {},
   "outputs": [],
   "source": [
    "def calc_classes(m, n, p):\n",
    "    class_1 = set()\n",
    "    class_2 = set()\n",
    "    for c in range(m.shape[0]):\n",
    "        rolled = m[:,c]\n",
    "        for r in range(m.shape[1]):\n",
    "            for a in range(p):\n",
    "                for b in range(p):\n",
    "                    seq = rolled.copy()\n",
    "                    seq[r+1:] = (a * seq[r+1:]) % p\n",
    "                    seq[:r+1] = (b * seq[:r+1]) % p\n",
    "                    \n",
    "                    if not (a == 0 or b == 0):\n",
    "                        class_1.add(tuple(seq))\n",
    "            rolled = np.roll(rolled, 1)\n",
    "            \n",
    "    for c in range(m.shape[0]):\n",
    "        rolled = m[:,c]\n",
    "        for r in range(m.shape[1]):\n",
    "            for a in range(p):\n",
    "                for b in range(p):\n",
    "                    seq = rolled.copy()\n",
    "                    seq[r+1:] = (a * seq[r+1:]) % p\n",
    "                    seq[:r+1] = (b * seq[:r+1]) % p\n",
    "                    \n",
    "                    if a == 0 or b == 0:\n",
    "                        if tuple(seq) not in class_1:\n",
    "                            class_2.add(tuple(seq))\n",
    "            rolled = np.roll(rolled, 1)\n",
    "    \n",
    "    return class_1, class_2"
   ]
  },
  {
   "cell_type": "code",
   "execution_count": 7,
   "metadata": {},
   "outputs": [],
   "source": [
    "def print_classes(n, p):\n",
    "    classes = calc_classes(gen_m(p, n), n, p)\n",
    "    print(len(classes[0]), len(classes[1]))"
   ]
  },
  {
   "cell_type": "code",
   "execution_count": 8,
   "metadata": {},
   "outputs": [],
   "source": [
    "def class_1_closed_form(n, p):\n",
    "    return (p - 1) * (p * n * n + 1) // (p + 1) + (p - 1) * (p - 2) * n * (n - 1) // 2"
   ]
  },
  {
   "cell_type": "code",
   "execution_count": 16,
   "metadata": {},
   "outputs": [],
   "source": [
    "def class_2_minus_1_closed_form(n, p):\n",
    "    return  1 + (p - 1) * (n - 1) * ((p - 1) * n - 2) // (p + 1)"
   ]
  },
  {
   "cell_type": "code",
   "execution_count": 27,
   "metadata": {},
   "outputs": [
    {
     "name": "stdout",
     "output_type": "stream",
     "text": [
      "145084 41169\n"
     ]
    },
    {
     "data": {
      "text/plain": [
       "(145084, 41169)"
      ]
     },
     "execution_count": 27,
     "metadata": {},
     "output_type": "execute_result"
    }
   ],
   "source": [
    "P = 5\n",
    "K = 3\n",
    "N = P**K\n",
    "\n",
    "print_classes(N, P)\n",
    "class_1_closed_form(N, P), class_2_minus_1_closed_form(N, P)"
   ]
  },
  {
   "cell_type": "code",
   "execution_count": 61,
   "metadata": {},
   "outputs": [
    {
     "name": "stdout",
     "output_type": "stream",
     "text": [
      "[[ True False False False False False False False False]\n",
      " [ True  True False False False False False False False]\n",
      " [ True  True  True False False False False False False]\n",
      " [ True False False  True False False False False False]\n",
      " [ True  True False  True  True False False False False]\n",
      " [ True  True  True  True  True  True False False False]\n",
      " [ True False False  True False False  True False False]\n",
      " [ True  True False  True  True False  True  True False]\n",
      " [ True  True  True  True  True  True  True  True  True]] 36\n"
     ]
    }
   ],
   "source": [
    "m = gen_m(P, N)\n",
    "nonzero = m != 0\n",
    "print(nonzero, np.sum(nonzero))"
   ]
  },
  {
   "cell_type": "code",
   "execution_count": null,
   "metadata": {},
   "outputs": [],
   "source": []
  }
 ],
 "metadata": {
  "kernelspec": {
   "display_name": "Python 3",
   "language": "python",
   "name": "python3"
  },
  "language_info": {
   "codemirror_mode": {
    "name": "ipython",
    "version": 3
   },
   "file_extension": ".py",
   "mimetype": "text/x-python",
   "name": "python",
   "nbconvert_exporter": "python",
   "pygments_lexer": "ipython3",
   "version": "3.7.4"
  }
 },
 "nbformat": 4,
 "nbformat_minor": 4
}
