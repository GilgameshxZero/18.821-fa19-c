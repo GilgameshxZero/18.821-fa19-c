{
 "cells": [
  {
   "cell_type": "code",
   "execution_count": null,
   "metadata": {},
   "outputs": [],
   "source": [
    "def calc_snp(cols, n):\n",
    "    unique_seqs = None\n",
    "    for a in range(len(cols)):\n",
    "        p = period(cols[a], len(cols[a]))\n",
    "        reduced = cols[a]\n",
    "        rolled = []\n",
    "        for b in range(n):\n",
    "            rolled.append(np.roll(reduced, b)[n:])\n",
    "        stacked = np.vstack(rolled)\n",
    "        unique_this = np.unique(stacked, axis=1)\n",
    "        unique_seqs = unique_this if unique_seqs is None \\\n",
    "            else np.unique(np.hstack((unique_seqs, unique_this)), axis=1)\n",
    "    return unique_seqs.shape[1]"
   ]
  }
 ],
 "metadata": {
  "kernelspec": {
   "display_name": "Python 3",
   "language": "python",
   "name": "python3"
  },
  "language_info": {
   "codemirror_mode": {
    "name": "ipython",
    "version": 3
   },
   "file_extension": ".py",
   "mimetype": "text/x-python",
   "name": "python",
   "nbconvert_exporter": "python",
   "pygments_lexer": "ipython3",
   "version": "3.7.5"
  }
 },
 "nbformat": 4,
 "nbformat_minor": 4
}
