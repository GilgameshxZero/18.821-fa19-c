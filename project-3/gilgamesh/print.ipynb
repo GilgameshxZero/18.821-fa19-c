{
 "cells": [
  {
   "cell_type": "code",
   "execution_count": 12,
   "metadata": {},
   "outputs": [],
   "source": [
    "#!/usr/bin/env python3\n",
    "# -*- coding: utf-8 -*-\n",
    "\"\"\"\n",
    "Created on Thu Nov  7 16:01:58 2019\n",
    "\n",
    "@author: tamiquedebrito\n",
    "\"\"\"\n",
    "\n",
    "import itertools\n",
    "from math import log10, floor, ceil\n",
    "\n",
    "\n",
    "def gen_mod_tri(N, p):\n",
    "    # Generates the first N rows of a pascal triangle mod p in the form of a list of lists where the i-th list\n",
    "    # corresponds to the i-th row of the pascals triangle.\n",
    "    triangle = [[1]]\n",
    "    for n in range(1, N):\n",
    "        next_row = [1]\n",
    "        for i in range(1,n):\n",
    "            next_row.append( (triangle[n-1][i-1] + triangle[n-1][i])%p )\n",
    "        next_row.append(1)\n",
    "        triangle.append(next_row)\n",
    "    return triangle\n",
    "\n",
    "def gen_tri(N, p):\n",
    "    # Generates the first N rows of a pascal triangle mod p in the form of a list of lists where the i-th list\n",
    "    # corresponds to the i-th row of the pascals triangle.\n",
    "    triangle = [[1]]\n",
    "    for n in range(1, N):\n",
    "        next_row = [1]\n",
    "        for i in range(1,n):\n",
    "            next_row.append( (triangle[n-1][i-1] + triangle[n-1][i]) )\n",
    "        next_row.append(1)\n",
    "        triangle.append(next_row)\n",
    "    return triangle\n",
    "\n",
    "def get_mod_tri_str(triangle, p, centering=True):\n",
    "    # Generates a string from a pascals triangle represented as a list of lists,\n",
    "    # which, when printed, will be a visualization of the triangle.\n",
    "    padding = ceil((floor(log10(p)) + 2)/2)*2 - 2\n",
    "    N = len(triangle)\n",
    "    string = \"\"\n",
    "    for n in range(N):\n",
    "        line = \"\"\n",
    "        if centering:\n",
    "            line = line + \" \" * (N - n) * (padding//2)\n",
    "        for l in triangle[n]:\n",
    "            line = line + str(l).ljust(padding)\n",
    "        string = string + line + \"\\n\"\n",
    "    return string\n",
    "\n",
    "def draw_tri(triangle, p, centering=True):\n",
    "    # Draws a visualization of a pascals triangle given as a list of lists.\n",
    "    print(get_mod_tri_str(triangle, p, centering))\n",
    "\n",
    "def gen_and_draw_tri(N, p, centering=True, use_vp=False):\n",
    "    # Generates and draws the first N rows of a pascals triangle mod p.\n",
    "    if use_vp:\n",
    "        draw_tri([[v_p(e, p) for e in l] for l in gen_tri(N, p)], p, centering)        \n",
    "    else:\n",
    "        draw_tri(gen_mod_tri(N, p), p, centering)\n",
    "\n",
    "def densities(N, p, proportions=True):\n",
    "    tri = gen_mod_tri(N, p)\n",
    "    tri = list(itertools.chain(*tri))\n",
    "    if proportions:\n",
    "        return [tri.count(i) / len(tri) for i in range(p)]\n",
    "    else:\n",
    "        return [tri.count(i) for i in range(p)]\n",
    "\n",
    "def v_p(n, p):\n",
    "    i = 0\n",
    "    while n % p == 0:\n",
    "        i += 1\n",
    "        n = n / p\n",
    "    return i"
   ]
  },
  {
   "cell_type": "code",
   "execution_count": 13,
   "metadata": {},
   "outputs": [
    {
     "name": "stdout",
     "output_type": "stream",
     "text": [
      "1   \n",
      "1   1   \n",
      "1   2   1   \n",
      "1   3   3   1   \n",
      "1   4   6   4   1   \n",
      "1   5   10  10  5   1   \n",
      "1   6   15  20  15  6   1   \n",
      "1   7   21  35  35  21  7   1   \n",
      "1   8   28  56  70  56  28  8   1   \n",
      "1   9   36  84  126 126 84  36  9   1   \n",
      "\n"
     ]
    }
   ],
   "source": [
    "gen_and_draw_tri(N=10, p=10000, centering=False)"
   ]
  },
  {
   "cell_type": "code",
   "execution_count": 3,
   "metadata": {},
   "outputs": [
    {
     "name": "stdout",
     "output_type": "stream",
     "text": [
      "                                           1\n",
      "                                         1   1\n",
      "                                       1   2   1\n",
      "                                     1   3   3   1\n",
      "                                   1   4   6   4   1\n",
      "                                 1   5   10   10   5   1\n",
      "                               1   6   15   20   15   6   1\n",
      "                             1   7   21   35   35   21   7   1\n",
      "                           1   8   28   56   70   56   28   8   1\n",
      "                         1   9   36   84   126   126   84   36   9   1\n",
      "                       1   10   45   120   210   252   210   120   45   10   1\n",
      "                     1   11   55   165   330   462   462   330   165   55   11   1\n",
      "                   1   12   66   220   495   792   924   792   495   220   66   12   1\n",
      "                 1   13   78   286   715   1287   1716   1716   1287   715   286   78   13   1\n",
      "               1   14   91   364   1001   2002   3003   3432   3003   2002   1001   364   91   14   1\n",
      "             1   15   105   455   1365   3003   5005   6435   6435   5005   3003   1365   455   105   15   1\n",
      "           1   16   120   560   1820   4368   8008   11440   12870   11440   8008   4368   1820   560   120   16   1\n",
      "         1   17   136   680   2380   6188   12376   19448   24310   24310   19448   12376   6188   2380   680   136   17   1\n",
      "       1   18   153   816   3060   8568   18564   31824   43758   48620   43758   31824   18564   8568   3060   816   153   18   1\n",
      "     1   19   171   969   3876   11628   27132   50388   75582   92378   92378   75582   50388   27132   11628   3876   969   171   19   1\n",
      "   1   20   190   1140   4845   15504   38760   77520   125970   167960   184756   167960   125970   77520   38760   15504   4845   1140   190   20   1\n"
     ]
    }
   ],
   "source": [
    "rows = 21\n",
    "p = 7\n",
    "for i in range(0, rows):\n",
    "    coff = 1\n",
    "    for j in range(1, rows-i):\n",
    "        print(\"  \", end=\"\")\n",
    "\n",
    "    for k in range(0, i+1):\n",
    "        print(\"  \", coff, end=\"\")\n",
    "        coff = int(coff * (i - k) / (k + 1))\n",
    "    print()"
   ]
  },
  {
   "cell_type": "code",
   "execution_count": 6,
   "metadata": {},
   "outputs": [],
   "source": [
    "def print_tri(rows, p, shift=0):\n",
    "    for i in range(0, rows):\n",
    "        coff = 1\n",
    "        for j in range(1, rows-i):\n",
    "            print(\" \", end=\"\")\n",
    "\n",
    "        for k in range(0, i+1):\n",
    "            print(\"\", (coff + shift) % p, end=\"\")\n",
    "            coff = int(coff * (i - k) / (k + 1))\n",
    "        print()"
   ]
  },
  {
   "cell_type": "code",
   "execution_count": 7,
   "metadata": {},
   "outputs": [
    {
     "name": "stdout",
     "output_type": "stream",
     "text": [
      "                                                       1\n",
      "                                                      1 1\n",
      "                                                     1 2 1\n",
      "                                                    1 0 0 1\n",
      "                                                   1 1 0 1 1\n",
      "                                                  1 2 1 1 2 1\n",
      "                                                 1 0 0 2 0 0 1\n",
      "                                                1 1 0 2 2 0 1 1\n",
      "                                               1 2 1 2 1 2 1 2 1\n",
      "                                              1 0 0 0 0 0 0 0 0 1\n",
      "                                             1 1 0 0 0 0 0 0 0 1 1\n",
      "                                            1 2 1 0 0 0 0 0 0 1 2 1\n",
      "                                           1 0 0 1 0 0 0 0 0 1 0 0 1\n",
      "                                          1 1 0 1 1 0 0 0 0 1 1 0 1 1\n",
      "                                         1 2 1 1 2 1 0 0 0 1 2 1 1 2 1\n",
      "                                        1 0 0 2 0 0 1 0 0 1 0 0 2 0 0 1\n",
      "                                       1 1 0 2 2 0 1 1 0 1 1 0 2 2 0 1 1\n",
      "                                      1 2 1 2 1 2 1 2 1 1 2 1 2 1 2 1 2 1\n",
      "                                     1 0 0 0 0 0 0 0 0 2 0 0 0 0 0 0 0 0 1\n",
      "                                    1 1 0 0 0 0 0 0 0 2 2 0 0 0 0 0 0 0 1 1\n",
      "                                   1 2 1 0 0 0 0 0 0 2 1 2 0 0 0 0 0 0 1 2 1\n",
      "                                  1 0 0 1 0 0 0 0 0 2 0 0 2 0 0 0 0 0 1 0 0 1\n",
      "                                 1 1 0 1 1 0 0 0 0 2 2 0 2 2 0 0 0 0 1 1 0 1 1\n",
      "                                1 2 1 1 2 1 0 0 0 2 1 2 2 1 2 0 0 0 1 2 1 1 2 1\n",
      "                               1 0 0 2 0 0 1 0 0 2 0 0 1 0 0 2 0 0 1 0 0 2 0 0 1\n",
      "                              1 1 0 2 2 0 1 1 0 2 2 0 1 1 0 2 2 0 1 1 0 2 2 0 1 1\n",
      "                             1 2 1 2 1 2 1 2 1 2 1 2 1 2 1 2 1 2 1 2 1 2 1 2 1 2 1\n",
      "                            1 0 0 0 0 0 0 0 0 0 0 0 0 0 0 0 0 0 0 0 0 0 0 0 0 0 0 1\n",
      "                           1 1 0 0 0 0 0 0 0 0 0 0 0 0 0 0 0 0 0 0 0 0 0 0 0 0 0 1 1\n",
      "                          1 2 1 0 0 0 0 0 0 0 0 0 0 0 0 0 0 0 0 0 0 0 0 0 0 0 0 1 2 1\n",
      "                         1 0 0 1 0 0 0 0 0 0 0 0 0 0 0 0 0 0 0 0 0 0 0 0 0 0 0 1 0 0 1\n",
      "                        1 1 0 1 1 0 0 0 0 0 0 0 0 0 0 0 0 0 0 0 0 0 0 0 0 0 0 1 1 0 1 1\n",
      "                       1 2 1 1 2 1 0 0 0 0 0 0 0 0 0 0 0 0 0 0 0 0 0 0 0 0 0 1 2 1 1 2 1\n",
      "                      1 0 0 2 0 0 1 0 0 0 0 0 0 0 0 0 0 0 0 0 0 0 0 0 0 0 0 1 0 0 2 0 0 1\n",
      "                     1 1 0 2 2 0 1 1 0 0 0 0 0 0 0 0 0 0 0 0 0 0 0 0 0 0 0 1 1 0 2 2 0 1 1\n",
      "                    1 2 1 2 1 2 1 2 1 0 0 0 0 0 0 0 0 0 0 0 0 0 0 0 0 0 0 1 2 1 2 1 2 1 2 1\n",
      "                   1 0 0 0 0 0 0 0 0 1 0 0 0 0 0 0 0 0 0 0 0 0 0 0 0 0 0 1 0 0 0 0 0 0 0 0 1\n",
      "                  1 1 0 0 0 0 0 0 0 1 1 0 0 0 0 0 0 0 0 0 0 0 0 0 0 0 0 1 1 0 0 0 0 0 0 0 1 1\n",
      "                 1 2 1 0 0 0 0 0 0 1 2 1 0 0 0 0 0 0 0 0 0 0 0 0 0 0 0 1 2 1 0 0 0 0 0 0 1 2 1\n",
      "                1 0 0 1 0 0 0 0 0 1 0 0 1 0 0 0 0 0 0 0 0 0 0 0 0 0 0 1 0 0 1 0 0 0 0 0 1 0 0 1\n",
      "               1 1 0 1 1 0 0 0 0 1 1 0 1 1 0 0 0 0 0 0 0 0 0 0 0 0 0 1 1 0 1 1 0 0 0 0 1 1 0 1 1\n",
      "              1 2 1 1 2 1 0 0 0 1 2 1 1 2 1 0 0 0 0 0 0 0 0 0 0 0 0 1 2 1 1 2 1 0 0 0 1 2 1 1 2 1\n",
      "             1 0 0 2 0 0 1 0 0 1 0 0 2 0 0 1 0 0 0 0 0 0 0 0 0 0 0 1 0 0 2 0 0 1 0 0 1 0 0 2 0 0 1\n",
      "            1 1 0 2 2 0 1 1 0 1 1 0 2 2 0 1 1 0 0 0 0 0 0 0 0 0 0 1 1 0 2 2 0 1 1 0 1 1 0 2 2 0 1 1\n",
      "           1 2 1 2 1 2 1 2 1 1 2 1 2 1 2 1 2 1 0 0 0 0 0 0 0 0 0 1 2 1 2 1 2 1 2 1 1 2 1 2 1 2 1 2 1\n",
      "          1 0 0 0 0 0 0 0 0 2 0 0 0 0 0 0 0 0 1 0 0 0 0 0 0 0 0 1 0 0 0 0 0 0 0 0 2 0 0 0 0 0 0 0 0 1\n",
      "         1 1 0 0 0 0 0 0 0 2 2 0 0 0 0 0 0 0 1 1 0 0 0 0 0 0 0 1 1 0 0 0 0 0 0 0 2 2 0 0 0 0 0 0 0 1 1\n",
      "        1 2 1 0 0 0 0 0 0 2 1 2 0 0 0 0 0 0 1 2 1 0 0 0 0 0 0 1 2 1 0 0 0 0 0 0 2 1 2 0 0 0 0 0 0 1 2 1\n",
      "       1 0 0 1 0 0 0 0 0 2 0 0 2 0 0 0 0 0 1 0 0 1 0 0 0 0 0 1 0 0 1 0 0 0 0 0 2 0 0 2 0 0 0 0 0 1 0 0 1\n",
      "      1 1 0 1 1 0 0 0 0 2 2 0 2 2 0 0 0 0 1 1 0 1 1 0 0 0 0 1 1 0 1 1 0 0 0 0 2 2 0 2 2 0 0 0 0 1 1 0 1 1\n",
      "     1 2 1 1 2 1 0 0 0 2 1 2 2 1 2 0 0 0 1 2 1 1 2 1 0 0 0 1 2 1 1 2 1 0 0 0 2 1 2 2 1 2 0 0 0 1 2 1 1 2 1\n",
      "    1 0 0 2 0 0 1 0 0 2 0 0 1 0 0 2 0 0 1 0 0 2 0 0 1 0 0 1 0 0 2 0 0 1 0 0 2 0 0 1 0 0 2 0 0 1 0 0 2 0 0 1\n",
      "   1 1 0 2 2 0 1 1 0 2 2 0 1 1 0 2 2 0 1 1 0 2 2 0 1 1 0 1 1 0 2 2 0 1 1 0 2 2 0 1 1 0 2 2 0 1 1 0 2 2 0 1 1\n",
      "  1 2 1 2 1 2 1 2 1 2 1 2 1 2 1 2 1 2 1 2 1 2 1 2 1 2 1 1 2 1 2 1 2 1 2 1 2 1 2 1 2 1 2 1 2 1 2 1 2 1 2 1 2 1\n",
      " 1 0 0 0 0 0 0 0 0 0 0 0 0 0 0 0 0 0 0 0 0 0 0 0 0 0 0 2 0 0 0 0 0 0 0 0 0 0 0 0 0 0 0 0 0 0 0 0 0 0 0 0 0 0 1\n"
     ]
    }
   ],
   "source": [
    "print_tri(55, 3)"
   ]
  },
  {
   "cell_type": "code",
   "execution_count": 8,
   "metadata": {},
   "outputs": [
    {
     "name": "stdout",
     "output_type": "stream",
     "text": [
      "                     0\n",
      "                    0 0\n",
      "                   0 1 0\n",
      "                  0 2 2 0\n",
      "                 0 0 2 0 0\n",
      "                0 1 0 0 1 0\n",
      "               0 2 2 1 2 2 0\n",
      "              0 0 2 1 1 2 0 0\n",
      "             0 1 0 1 0 1 0 1 0\n",
      "            0 2 2 2 2 2 2 2 2 0\n",
      "           0 0 2 2 2 2 2 2 2 0 0\n",
      "          0 1 0 2 2 2 2 2 2 0 1 0\n",
      "         0 2 2 0 2 2 2 2 2 0 2 2 0\n",
      "        0 0 2 0 0 2 2 2 2 0 0 2 0 0\n",
      "       0 1 0 0 1 0 2 2 2 0 1 0 0 1 0\n",
      "      0 2 2 1 2 2 0 2 2 0 2 2 1 2 2 0\n",
      "     0 0 2 1 1 2 0 0 2 0 0 2 1 1 2 0 0\n",
      "    0 1 0 1 0 1 0 1 0 0 1 0 1 0 1 0 1 0\n",
      "   0 2 2 2 2 2 2 2 2 1 2 2 2 2 2 2 2 2 0\n",
      "  0 0 2 2 2 2 2 2 2 1 1 2 2 2 2 2 2 2 0 0\n",
      " 0 1 0 2 2 2 2 2 2 1 0 1 2 2 2 2 2 2 0 1 0\n"
     ]
    }
   ],
   "source": [
    "print_tri(21, 3, 2)"
   ]
  },
  {
   "cell_type": "code",
   "execution_count": 1,
   "metadata": {},
   "outputs": [],
   "source": [
    "def print_tri_left(rows, p, shift=0):\n",
    "    for i in range(0, rows):\n",
    "        coff = 1\n",
    "\n",
    "        for k in range(0, i+1):\n",
    "            print(\"\", (coff + shift), end=\"\")\n",
    "            coff = int(coff * (i - k) / (k + 1))\n",
    "        print()"
   ]
  },
  {
   "cell_type": "code",
   "execution_count": 2,
   "metadata": {},
   "outputs": [
    {
     "name": "stdout",
     "output_type": "stream",
     "text": [
      " 1\n",
      " 1 1\n",
      " 1 2 1\n",
      " 1 3 3 1\n",
      " 1 4 6 4 1\n",
      " 1 5 10 10 5 1\n",
      " 1 6 15 20 15 6 1\n",
      " 1 7 21 35 35 21 7 1\n",
      " 1 8 28 56 70 56 28 8 1\n",
      " 1 9 36 84 126 126 84 36 9 1\n",
      " 1 10 45 120 210 252 210 120 45 10 1\n",
      " 1 11 55 165 330 462 462 330 165 55 11 1\n",
      " 1 12 66 220 495 792 924 792 495 220 66 12 1\n",
      " 1 13 78 286 715 1287 1716 1716 1287 715 286 78 13 1\n",
      " 1 14 91 364 1001 2002 3003 3432 3003 2002 1001 364 91 14 1\n",
      " 1 15 105 455 1365 3003 5005 6435 6435 5005 3003 1365 455 105 15 1\n",
      " 1 16 120 560 1820 4368 8008 11440 12870 11440 8008 4368 1820 560 120 16 1\n",
      " 1 17 136 680 2380 6188 12376 19448 24310 24310 19448 12376 6188 2380 680 136 17 1\n",
      " 1 18 153 816 3060 8568 18564 31824 43758 48620 43758 31824 18564 8568 3060 816 153 18 1\n",
      " 1 19 171 969 3876 11628 27132 50388 75582 92378 92378 75582 50388 27132 11628 3876 969 171 19 1\n",
      " 1 20 190 1140 4845 15504 38760 77520 125970 167960 184756 167960 125970 77520 38760 15504 4845 1140 190 20 1\n"
     ]
    }
   ],
   "source": [
    "print_tri_left(21, 3)"
   ]
  },
  {
   "cell_type": "code",
   "execution_count": null,
   "metadata": {},
   "outputs": [],
   "source": []
  }
 ],
 "metadata": {
  "kernelspec": {
   "display_name": "Python 3",
   "language": "python",
   "name": "python3"
  },
  "language_info": {
   "codemirror_mode": {
    "name": "ipython",
    "version": 3
   },
   "file_extension": ".py",
   "mimetype": "text/x-python",
   "name": "python",
   "nbconvert_exporter": "python",
   "pygments_lexer": "ipython3",
   "version": "3.7.4"
  }
 },
 "nbformat": 4,
 "nbformat_minor": 4
}
