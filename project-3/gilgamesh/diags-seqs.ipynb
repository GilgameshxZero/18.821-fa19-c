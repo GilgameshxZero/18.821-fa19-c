{
 "cells": [
  {
   "cell_type": "code",
   "execution_count": 1,
   "metadata": {},
   "outputs": [],
   "source": [
    "import numpy as np"
   ]
  },
  {
   "cell_type": "code",
   "execution_count": 2,
   "metadata": {},
   "outputs": [],
   "source": [
    "def period_v(npa, dmax):\n",
    "    for a in range(1, dmax // 2):\n",
    "        shift = np.roll(npa, a)\n",
    "        if np.array_equal(npa[a:], shift[a:]):\n",
    "            return a\n",
    "    return None"
   ]
  },
  {
   "cell_type": "code",
   "execution_count": 9,
   "metadata": {},
   "outputs": [],
   "source": [
    "def calc_v(p, cmax, dmax, display):\n",
    "    prev = np.array([1 for a in range(dmax)])\n",
    "    cols = []\n",
    "    for a in range(cmax):\n",
    "        if display != 0:\n",
    "            print(period_v(prev, dmax), \"\\t\", prev[:display])\n",
    "        cols.append(prev)\n",
    "        prev = np.cumsum(prev) % p\n",
    "    return cols"
   ]
  },
  {
   "cell_type": "code",
   "execution_count": 34,
   "metadata": {},
   "outputs": [],
   "source": [
    "def cong_seqs(cols, n):\n",
    "    seqs = set()\n",
    "    for a in range(len(cols)):\n",
    "        period = period_v(cols[a], len(cols[a]))\n",
    "        if period == None:\n",
    "            period = len(cols[a])\n",
    "        for b in range(min(len(cols[a]) - n, period)):\n",
    "            seqs.add(tuple(cols[a][b:b+n]))\n",
    "    return seqs"
   ]
  },
  {
   "cell_type": "code",
   "execution_count": 48,
   "metadata": {},
   "outputs": [],
   "source": [
    "def p_unique_seqs(cols, n):\n",
    "    res = len(cong_seqs(cols, n))\n",
    "    print(\"Unique sequences of n =\", n, \":\", res)\n",
    "    return res"
   ]
  },
  {
   "cell_type": "code",
   "execution_count": 41,
   "metadata": {},
   "outputs": [
    {
     "name": "stdout",
     "output_type": "stream",
     "text": [
      "Unique sequences of n = 2 : 49\n",
      "Unique sequences of n = 3 : 253\n",
      "Unique sequences of n = 4 : 403\n",
      "Unique sequences of n = 5 : 589\n",
      "Unique sequences of n = 6 : 811\n",
      "Unique sequences of n = 7 : 1069\n",
      "Unique sequences of n = 8 : 1363\n",
      "Unique sequences of n = 9 : 1812\n"
     ]
    }
   ],
   "source": [
    "cols = calc_v(7, 1000, 1000, 0)\n",
    "for a in range(2, 10):\n",
    "    p_unique_seqs(cols, a)"
   ]
  },
  {
   "cell_type": "code",
   "execution_count": 42,
   "metadata": {},
   "outputs": [
    {
     "name": "stdout",
     "output_type": "stream",
     "text": [
      "Unique sequences of n = 2 : 4\n",
      "Unique sequences of n = 3 : 8\n",
      "Unique sequences of n = 4 : 14\n",
      "Unique sequences of n = 5 : 22\n",
      "Unique sequences of n = 6 : 32\n",
      "Unique sequences of n = 7 : 44\n",
      "Unique sequences of n = 8 : 58\n",
      "Unique sequences of n = 9 : 74\n"
     ]
    }
   ],
   "source": [
    "cols = calc_v(2, 1000, 1000, 0)\n",
    "for a in range(2, 10):\n",
    "    p_unique_seqs(cols, a)"
   ]
  },
  {
   "cell_type": "code",
   "execution_count": 46,
   "metadata": {},
   "outputs": [
    {
     "name": "stdout",
     "output_type": "stream",
     "text": [
      "Unique sequences of n = 1 : 3\n",
      "Unique sequences of n = 2 : 9\n",
      "Unique sequences of n = 3 : 25\n",
      "Unique sequences of n = 4 : 43\n",
      "Unique sequences of n = 5 : 71\n",
      "Unique sequences of n = 6 : 109\n",
      "Unique sequences of n = 7 : 157\n",
      "Unique sequences of n = 8 : 207\n",
      "Unique sequences of n = 9 : 259\n",
      "Unique sequences of n = 10 : 313\n",
      "Unique sequences of n = 11 : 377\n",
      "Unique sequences of n = 12 : 451\n",
      "Unique sequences of n = 13 : 535\n",
      "Unique sequences of n = 14 : 629\n",
      "Unique sequences of n = 15 : 733\n",
      "Unique sequences of n = 16 : 847\n",
      "Unique sequences of n = 17 : 971\n",
      "Unique sequences of n = 18 : 1105\n",
      "Unique sequences of n = 19 : 1249\n",
      "Unique sequences of n = 20 : 1395\n",
      "Unique sequences of n = 21 : 1543\n",
      "Unique sequences of n = 22 : 1693\n",
      "Unique sequences of n = 23 : 1845\n",
      "Unique sequences of n = 24 : 1999\n",
      "Unique sequences of n = 25 : 2155\n",
      "Unique sequences of n = 26 : 2313\n",
      "Unique sequences of n = 27 : 2473\n",
      "Unique sequences of n = 28 : 2635\n",
      "Unique sequences of n = 29 : 2807\n",
      "Unique sequences of n = 30 : 2989\n",
      "Unique sequences of n = 31 : 3181\n",
      "Unique sequences of n = 32 : 3383\n",
      "Unique sequences of n = 33 : 3595\n",
      "Unique sequences of n = 34 : 3817\n",
      "Unique sequences of n = 35 : 4049\n",
      "Unique sequences of n = 36 : 4291\n",
      "Unique sequences of n = 37 : 4543\n",
      "Unique sequences of n = 38 : 4805\n",
      "Unique sequences of n = 39 : 5077\n",
      "Unique sequences of n = 40 : 5359\n",
      "Unique sequences of n = 41 : 5651\n",
      "Unique sequences of n = 42 : 5953\n",
      "Unique sequences of n = 43 : 6265\n",
      "Unique sequences of n = 44 : 6587\n",
      "Unique sequences of n = 45 : 6919\n",
      "Unique sequences of n = 46 : 7261\n",
      "Unique sequences of n = 47 : 7613\n",
      "Unique sequences of n = 48 : 7975\n",
      "Unique sequences of n = 49 : 8347\n"
     ]
    }
   ],
   "source": [
    "cols = calc_v(3, 1000, 1000, 0)\n",
    "c_uniques = []\n",
    "for a in range(1, 50):\n",
    "    c_uniques.append(p_unique_seqs(cols, a))"
   ]
  },
  {
   "cell_type": "code",
   "execution_count": 64,
   "metadata": {},
   "outputs": [
    {
     "name": "stdout",
     "output_type": "stream",
     "text": [
      "[   3    9   25   43   71  109  157  207  259  313  377  451  535  629\n",
      "  733  847  971 1105 1249 1395 1543 1693 1845 1999 2155 2313 2473 2635\n",
      " 2807 2989 3181 3383 3595 3817 4049 4291 4543 4805 5077 5359 5651 5953\n",
      " 6265 6587 6919 7261 7613 7975 8347]\n",
      "[  6  16  18  28  38  48  50  52  54  64  74  84  94 104 114 124 134 144\n",
      " 146 148 150 152 154 156 158 160 162 172 182 192 202 212 222 232 242 252\n",
      " 262 272 282 292 302 312 322 332 342 352 362 372]\n",
      "[10  2 10 10 10  2  2  2 10 10 10 10 10 10 10 10 10  2  2  2  2  2  2  2\n",
      "  2  2 10 10 10 10 10 10 10 10 10 10 10 10 10 10 10 10 10 10 10 10 10]\n"
     ]
    }
   ],
   "source": [
    "c_uniques = np.array(c_uniques)\n",
    "print(c_uniques)\n",
    "print(np.diff(c_uniques))\n",
    "print(np.diff(np.diff(c_uniques)))"
   ]
  },
  {
   "cell_type": "code",
   "execution_count": 65,
   "metadata": {},
   "outputs": [],
   "source": [
    "def get_patterns(p, n):\n",
    "    patterns = [[1, p - 1]] if p > 2 else [[1]]\n",
    "    for _ in range(n - 1):\n",
    "        pat = [1]\n",
    "        while True:\n",
    "            for x in patterns[-1][1:]:\n",
    "                pat.append((x - pat[-1]) % p)\n",
    "            if pat[-1] == 0:\n",
    "                break\n",
    "            pat.append((1 - pat[-1]) % p)\n",
    "        \n",
    "        patterns.append(pat)\n",
    "\n",
    "    return patterns"
   ]
  },
  {
   "cell_type": "code",
   "execution_count": 66,
   "metadata": {},
   "outputs": [],
   "source": [
    "def count_substrings(patterns, n):\n",
    "    patterns = [\"\".join(map(str, pat)) for pat in patterns]\n",
    "    \n",
    "    cs = [0]\n",
    "    for n in range(1, n):\n",
    "        ss = set()\n",
    "        for pat in patterns:\n",
    "            rep = (n // len(pat) + 2) * pat\n",
    "            for i in range(len(pat)):\n",
    "                ss.add(rep[i:i + n])\n",
    "    \n",
    "        cs.append(len(ss))\n",
    "    \n",
    "    return cs"
   ]
  },
  {
   "cell_type": "code",
   "execution_count": 77,
   "metadata": {},
   "outputs": [],
   "source": [
    "csubs = count_substrings(get_patterns(p=3, n=1000), n=101)"
   ]
  },
  {
   "cell_type": "code",
   "execution_count": 78,
   "metadata": {},
   "outputs": [
    {
     "name": "stdout",
     "output_type": "stream",
     "text": [
      "[0, 3, 9, 25, 43, 71, 109, 157, 207, 259, 313, 377, 451, 535, 629, 733, 847, 971, 1105, 1249, 1395, 1543, 1693, 1845, 1999, 2155, 2313, 2473, 2635, 2807, 2989, 3181, 3383, 3595, 3817, 4049, 4291, 4543, 4805, 5077, 5359, 5651, 5953, 6265, 6587, 6919, 7261, 7613, 7975, 8347, 8729, 9121, 9523, 9935, 10357, 10789, 11223, 11659, 12097, 12537, 12979, 13423, 13869, 14317, 14767, 15219, 15673, 16129, 16587, 17047, 17509, 17973, 18439, 18907, 19377, 19849, 20323, 20799, 21277, 21757, 22239, 22723, 23209, 23705, 24211, 24727, 25253, 25789, 26335, 26891, 27457, 28033, 28619, 29215, 29821, 30437, 31063, 31699, 32345, 33001, 33667]\n",
      "[  3   6  16  18  28  38  48  50  52  54  64  74  84  94 104 114 124 134\n",
      " 144 146 148 150 152 154 156 158 160 162 172 182 192 202 212 222 232 242\n",
      " 252 262 272 282 292 302 312 322 332 342 352 362 372 382 392 402 412 422\n",
      " 432 434 436 438 440 442 444 446 448 450 452 454 456 458 460 462 464 466\n",
      " 468 470 472 474 476 478 480 482 484 486 496 506 516 526 536 546 556 566\n",
      " 576 586 596 606 616 626 636 646 656 666]\n",
      "[ 3 10  2 10 10 10  2  2  2 10 10 10 10 10 10 10 10 10  2  2  2  2  2  2\n",
      "  2  2  2 10 10 10 10 10 10 10 10 10 10 10 10 10 10 10 10 10 10 10 10 10\n",
      " 10 10 10 10 10 10  2  2  2  2  2  2  2  2  2  2  2  2  2  2  2  2  2  2\n",
      "  2  2  2  2  2  2  2  2  2 10 10 10 10 10 10 10 10 10 10 10 10 10 10 10\n",
      " 10 10 10]\n"
     ]
    }
   ],
   "source": [
    "print(csubs)\n",
    "print(np.diff(csubs))\n",
    "print(np.diff(np.diff(csubs)))"
   ]
  },
  {
   "cell_type": "code",
   "execution_count": 79,
   "metadata": {},
   "outputs": [
    {
     "name": "stdout",
     "output_type": "stream",
     "text": [
      "[    3    43   313  2635 33667]\n",
      "[   40   270  2322 31032]\n",
      "[  230  2052 28710]\n",
      "[ 1822 26658]\n"
     ]
    }
   ],
   "source": [
    "csubst = np.array([csubs[1], csubs[4], csubs[10], csubs[28], csubs[100]])\n",
    "print(csubst)\n",
    "print(np.diff(csubst))\n",
    "print(np.diff(np.diff(csubst)))\n",
    "print(np.diff(np.diff(np.diff(csubst))))"
   ]
  },
  {
   "cell_type": "code",
   "execution_count": 84,
   "metadata": {},
   "outputs": [
    {
     "name": "stdout",
     "output_type": "stream",
     "text": [
      "[[0 0 0]\n",
      " [0 0 1]\n",
      " [0 0 2]\n",
      " [0 1 0]\n",
      " [0 1 1]\n",
      " [0 1 2]\n",
      " [0 2 0]\n",
      " [0 2 1]\n",
      " [0 2 2]\n",
      " [1 0 0]\n",
      " [1 0 1]\n",
      " [1 0 2]\n",
      " [1 1 0]\n",
      " [1 1 1]\n",
      " [1 1 2]\n",
      " [1 2 0]\n",
      " [1 2 2]\n",
      " [2 0 0]\n",
      " [2 0 1]\n",
      " [2 0 2]\n",
      " [2 1 0]\n",
      " [2 1 1]\n",
      " [2 2 0]\n",
      " [2 2 1]\n",
      " [2 2 2]]\n"
     ]
    }
   ],
   "source": [
    "cols = calc_v(3, 100, 100, 0)\n",
    "print(np.array(sorted(list(cong_seqs(cols, 3)))))"
   ]
  },
  {
   "cell_type": "code",
   "execution_count": null,
   "metadata": {},
   "outputs": [],
   "source": []
  }
 ],
 "metadata": {
  "kernelspec": {
   "display_name": "Python 3",
   "language": "python",
   "name": "python3"
  },
  "language_info": {
   "codemirror_mode": {
    "name": "ipython",
    "version": 3
   },
   "file_extension": ".py",
   "mimetype": "text/x-python",
   "name": "python",
   "nbconvert_exporter": "python",
   "pygments_lexer": "ipython3",
   "version": "3.7.5"
  }
 },
 "nbformat": 4,
 "nbformat_minor": 4
}
