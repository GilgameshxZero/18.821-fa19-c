{
 "cells": [
  {
   "cell_type": "code",
   "execution_count": 1,
   "metadata": {},
   "outputs": [],
   "source": [
    "import numba\n",
    "import numpy as np\n",
    "import tqdm\n",
    "\n",
    "import warnings\n",
    "warnings.filterwarnings('ignore')"
   ]
  },
  {
   "cell_type": "code",
   "execution_count": 2,
   "metadata": {},
   "outputs": [
    {
     "name": "stderr",
     "output_type": "stream",
     "text": [
      "100%|██████████| 32/32 [00:00<00:00, 42.06it/s]\n"
     ]
    },
    {
     "data": {
      "text/plain": [
       "44"
      ]
     },
     "execution_count": 2,
     "metadata": {},
     "output_type": "execute_result"
    }
   ],
   "source": [
    "@numba.njit\n",
    "def rolling_hashes(xs, n, base, mod):\n",
    "    assert max(xs) + 1 < base\n",
    "    \n",
    "    over = 1\n",
    "    for _ in range(n):\n",
    "        over *= base\n",
    "        over %= mod\n",
    "    \n",
    "    hashes = []\n",
    "    cur = 0\n",
    "    for x in xs[:n]:\n",
    "        cur = (base * cur + x + 1) % mod\n",
    "        \n",
    "    if n <= len(xs):\n",
    "        hashes.append(cur)\n",
    "        for i, x in enumerate(xs[n:]):\n",
    "            cur = (base * cur + x + 1) % mod\n",
    "            cur -= (xs[i] + 1) * over\n",
    "            cur %= mod\n",
    "            hashes.append(cur)\n",
    "    \n",
    "    return hashes\n",
    "\n",
    "@numba.njit\n",
    "def super_rolling_hashes(xs, n, p):\n",
    "    MODS = [1000000007]#, 1000000009]#, 1000000021, 1000000033]\n",
    "    BASE = p + 1\n",
    "    \n",
    "    hashes = []\n",
    "    for mod in MODS:\n",
    "        hashes.append(rolling_hashes(xs=xs, n=n, base=BASE, mod=mod))\n",
    "                \n",
    "    return hashes\n",
    "        \n",
    "\n",
    "def count_sequences(p, n):\n",
    "    seq_hashes = set()\n",
    "    row = [1]\n",
    "    \n",
    "    ub = 1\n",
    "    while ub <= n:\n",
    "        ub *= p\n",
    "    ub *= p\n",
    "    if p == 2:\n",
    "        ub *= 2\n",
    "    \n",
    "    for _ in tqdm.trange(ub):\n",
    "        for super_hash in zip(*super_rolling_hashes(xs=row, n=n, p=p)):\n",
    "            seq_hashes.add(super_hash)\n",
    "        \n",
    "        prv = 0\n",
    "        for i in range(len(row)):\n",
    "            tmp = row[i]\n",
    "            row[i] = (row[i] + prv) % p\n",
    "            prv = tmp\n",
    "        row.append(1)\n",
    "            \n",
    "    return len(seq_hashes)\n",
    "\n",
    "count_sequences(p=2, n=7)"
   ]
  },
  {
   "cell_type": "code",
   "execution_count": 3,
   "metadata": {},
   "outputs": [
    {
     "name": "stderr",
     "output_type": "stream",
     "text": [
      "100%|██████████| 25/25 [00:00<00:00, 15732.57it/s]\n",
      "100%|██████████| 125/125 [00:00<00:00, 6899.52it/s]\n",
      "100%|██████████| 625/625 [00:00<00:00, 1308.38it/s]"
     ]
    },
    {
     "name": "stdout",
     "output_type": "stream",
     "text": [
      "    2\n",
      "12 x - 10 x + 3\n"
     ]
    },
    {
     "name": "stderr",
     "output_type": "stream",
     "text": [
      "\n"
     ]
    }
   ],
   "source": [
    "def get_poly(p):\n",
    "    xs, ys = [], []\n",
    "    for k in range(3):    \n",
    "        n = p ** k\n",
    "        cnt = count_sequences(p=p, n=n)\n",
    "\n",
    "        x, y = n, cnt\n",
    "        xs.append(x)\n",
    "        ys.append(y)\n",
    "\n",
    "    return np.poly1d(np.polyfit(xs, ys, deg=2))\n",
    "\n",
    "print(get_poly(p=5))"
   ]
  },
  {
   "cell_type": "code",
   "execution_count": 4,
   "metadata": {},
   "outputs": [
    {
     "name": "stderr",
     "output_type": "stream",
     "text": [
      "100%|██████████| 8/8 [00:00<00:00, 9768.39it/s]\n",
      "100%|██████████| 16/16 [00:00<00:00, 23188.96it/s]\n",
      "100%|██████████| 32/32 [00:00<00:00, 17345.27it/s]\n",
      "100%|██████████| 9/9 [00:00<00:00, 22231.29it/s]\n",
      "100%|██████████| 27/27 [00:00<00:00, 21900.25it/s]\n",
      "100%|██████████| 81/81 [00:00<00:00, 5098.20it/s]\n",
      "100%|██████████| 25/25 [00:00<00:00, 9034.78it/s]\n",
      "100%|██████████| 125/125 [00:00<00:00, 5333.66it/s]\n",
      " 44%|████▍     | 278/625 [00:00<00:00, 2777.45it/s]"
     ]
    },
    {
     "name": "stdout",
     "output_type": "stream",
     "text": [
      "   2\n",
      "1 x - 1 x + 2\n",
      "     2\n",
      "3.5 x - 3 x + 2.5\n"
     ]
    },
    {
     "name": "stderr",
     "output_type": "stream",
     "text": [
      "100%|██████████| 625/625 [00:00<00:00, 1399.11it/s]\n",
      "100%|██████████| 49/49 [00:00<00:00, 12811.43it/s]\n",
      "100%|██████████| 343/343 [00:00<00:00, 2480.26it/s]\n",
      "  0%|          | 0/2401 [00:00<?, ?it/s]"
     ]
    },
    {
     "name": "stdout",
     "output_type": "stream",
     "text": [
      "    2\n",
      "12 x - 10 x + 3\n"
     ]
    },
    {
     "name": "stderr",
     "output_type": "stream",
     "text": [
      "100%|██████████| 2401/2401 [00:06<00:00, 390.70it/s]\n",
      "100%|██████████| 121/121 [00:00<00:00, 6830.38it/s]\n",
      " 22%|██▏       | 290/1331 [00:00<00:00, 2889.63it/s]"
     ]
    },
    {
     "name": "stdout",
     "output_type": "stream",
     "text": [
      "       2\n",
      "24.75 x - 21 x + 3.247\n"
     ]
    },
    {
     "name": "stderr",
     "output_type": "stream",
     "text": [
      "100%|██████████| 1331/1331 [00:01<00:00, 697.47it/s]\n",
      "100%|██████████| 14641/14641 [03:50<00:00, 63.50it/s]\n"
     ]
    },
    {
     "name": "stdout",
     "output_type": "stream",
     "text": [
      "       2\n",
      "62.47 x - 54.67 x + 3.202\n",
      "CPU times: user 3min 58s, sys: 1.23 s, total: 3min 59s\n",
      "Wall time: 3min 59s\n"
     ]
    }
   ],
   "source": [
    "%%time\n",
    "for p in [2, 3, 5, 7, 11]:\n",
    "    print(get_poly(p))"
   ]
  }
 ],
 "metadata": {
  "kernelspec": {
   "display_name": "Python 3",
   "language": "python",
   "name": "python3"
  },
  "language_info": {
   "codemirror_mode": {
    "name": "ipython",
    "version": 3
   },
   "file_extension": ".py",
   "mimetype": "text/x-python",
   "name": "python",
   "nbconvert_exporter": "python",
   "pygments_lexer": "ipython3",
   "version": "3.7.4"
  }
 },
 "nbformat": 4,
 "nbformat_minor": 4
}
