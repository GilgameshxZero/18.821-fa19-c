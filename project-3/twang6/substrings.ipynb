{
 "cells": [
  {
   "cell_type": "code",
   "execution_count": 1,
   "metadata": {},
   "outputs": [],
   "source": [
    "import numba\n",
    "import numpy as np\n",
    "import tqdm\n",
    "\n",
    "import warnings\n",
    "warnings.filterwarnings('ignore')"
   ]
  },
  {
   "cell_type": "code",
   "execution_count": 2,
   "metadata": {},
   "outputs": [
    {
     "name": "stderr",
     "output_type": "stream",
     "text": [
      "100%|██████████| 32/32 [00:00<00:00, 35.04it/s]\n"
     ]
    },
    {
     "data": {
      "text/plain": [
       "44"
      ]
     },
     "execution_count": 2,
     "metadata": {},
     "output_type": "execute_result"
    }
   ],
   "source": [
    "@numba.njit\n",
    "def rolling_hashes(xs, n, base, mod):\n",
    "    assert max(xs) + 1 < base\n",
    "    \n",
    "    over = 1\n",
    "    for _ in range(n):\n",
    "        over *= base\n",
    "        over %= mod\n",
    "    \n",
    "    hashes = []\n",
    "    cur = 0\n",
    "    for x in xs[:n]:\n",
    "        cur = (base * cur + x + 1) % mod\n",
    "        \n",
    "    if n <= len(xs):\n",
    "        hashes.append(cur)\n",
    "        for i, x in enumerate(xs[n:]):\n",
    "            cur = (base * cur + x + 1) % mod\n",
    "            cur -= (xs[i] + 1) * over\n",
    "            cur %= mod\n",
    "            hashes.append(cur)\n",
    "    \n",
    "    return hashes\n",
    "\n",
    "@numba.njit\n",
    "def super_rolling_hashes(xs, n, p):\n",
    "    MODS = [1000000007]#, 1000000009]#, 1000000021, 1000000033]\n",
    "    BASE = p + 1\n",
    "    \n",
    "    hashes = []\n",
    "    for mod in MODS:\n",
    "        hashes.append(rolling_hashes(xs=xs, n=n, base=BASE, mod=mod))\n",
    "                \n",
    "    return hashes\n",
    "        \n",
    "\n",
    "def count_sequences(p, n):\n",
    "    seq_hashes = set()\n",
    "    row = [1]\n",
    "    \n",
    "    ub = 1\n",
    "    while ub <= n:\n",
    "        ub *= p\n",
    "    ub *= p\n",
    "    if p == 2:\n",
    "        ub *= 2\n",
    "    \n",
    "    for _ in tqdm.trange(ub):\n",
    "        for super_hash in zip(*super_rolling_hashes(xs=row, n=n, p=p)):\n",
    "            seq_hashes.add(super_hash)\n",
    "        \n",
    "        prv = 0\n",
    "        for i in range(len(row)):\n",
    "            tmp = row[i]\n",
    "            row[i] = (row[i] + prv) % p\n",
    "            prv = tmp\n",
    "        row.append(1)\n",
    "            \n",
    "    return len(seq_hashes)\n",
    "\n",
    "count_sequences(p=2, n=7)"
   ]
  },
  {
   "cell_type": "code",
   "execution_count": 3,
   "metadata": {},
   "outputs": [
    {
     "name": "stderr",
     "output_type": "stream",
     "text": [
      "100%|██████████| 25/25 [00:00<00:00, 12165.87it/s]\n",
      "100%|██████████| 125/125 [00:00<00:00, 4178.93it/s]\n",
      "100%|██████████| 625/625 [00:00<00:00, 1207.92it/s]"
     ]
    },
    {
     "name": "stdout",
     "output_type": "stream",
     "text": [
      "    2\n",
      "12 x - 10 x + 3\n"
     ]
    },
    {
     "name": "stderr",
     "output_type": "stream",
     "text": [
      "\n"
     ]
    }
   ],
   "source": [
    "def get_poly(p):\n",
    "    xs, ys = [], []\n",
    "    for k in range(3):    \n",
    "        n = p ** k\n",
    "        cnt = count_sequences(p=p, n=n)\n",
    "\n",
    "        x, y = n, cnt\n",
    "        xs.append(x)\n",
    "        ys.append(y)\n",
    "\n",
    "    return np.poly1d(np.polyfit(xs, ys, deg=2))\n",
    "\n",
    "print(get_poly(p=5))"
   ]
  },
  {
   "cell_type": "code",
   "execution_count": 4,
   "metadata": {},
   "outputs": [
    {
     "name": "stderr",
     "output_type": "stream",
     "text": [
      "100%|██████████| 169/169 [00:00<00:00, 4043.94it/s]\n",
      "100%|██████████| 2197/2197 [00:05<00:00, 418.73it/s]\n",
      "100%|██████████| 28561/28561 [15:14<00:00, 31.24it/s]\n"
     ]
    },
    {
     "name": "stdout",
     "output_type": "stream",
     "text": [
      "       2\n",
      "87.31 x - 76.36 x + 2.052\n",
      "CPU times: user 15min 9s, sys: 6.31 s, total: 15min 16s\n",
      "Wall time: 15min 20s\n"
     ]
    }
   ],
   "source": [
    "%%time\n",
    "for p in [13]:\n",
    "    print(get_poly(p))"
   ]
  },
  {
   "cell_type": "code",
   "execution_count": null,
   "metadata": {},
   "outputs": [],
   "source": []
  }
 ],
 "metadata": {
  "kernelspec": {
   "display_name": "Python 3",
   "language": "python",
   "name": "python3"
  },
  "language_info": {
   "codemirror_mode": {
    "name": "ipython",
    "version": 3
   },
   "file_extension": ".py",
   "mimetype": "text/x-python",
   "name": "python",
   "nbconvert_exporter": "python",
   "pygments_lexer": "ipython3",
   "version": "3.7.4"
  }
 },
 "nbformat": 4,
 "nbformat_minor": 4
}
