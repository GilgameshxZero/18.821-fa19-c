{
 "cells": [
  {
   "cell_type": "code",
   "execution_count": 1,
   "metadata": {},
   "outputs": [],
   "source": [
    "import numpy as np"
   ]
  },
  {
   "cell_type": "code",
   "execution_count": 2,
   "metadata": {},
   "outputs": [
    {
     "data": {
      "text/plain": [
       "44"
      ]
     },
     "execution_count": 2,
     "metadata": {},
     "output_type": "execute_result"
    }
   ],
   "source": [
    "def count_seqs(p, n):\n",
    "    seqs = set()\n",
    "    row = [1]\n",
    "    \n",
    "    ub = 1\n",
    "    while ub <= n:\n",
    "        ub *= p\n",
    "    ub *= p\n",
    "    if p == 2:\n",
    "        ub *= 2\n",
    "    \n",
    "    for _ in range(ub):\n",
    "        trow = tuple(row)\n",
    "        for i in range(len(row) - n + 1):\n",
    "            seqs.add(trow[i : i + n])\n",
    "        \n",
    "        prv = 0\n",
    "        for i in range(len(row)):\n",
    "            tmp = row[i]\n",
    "            row[i] = (row[i] + prv) % p\n",
    "            prv = tmp\n",
    "        row.append(1)\n",
    "            \n",
    "    return len(seqs)\n",
    "\n",
    "count_seqs(p=2, n=7)"
   ]
  },
  {
   "cell_type": "code",
   "execution_count": 5,
   "metadata": {},
   "outputs": [],
   "source": [
    "def closed_form_count_seqs(p, n):\n",
    "    return ((p - 1) * (p - 1) * (p + 4) * n * n + 8 * p - 4) // 2 // (p + 1) - p * (p - 1) // 2 * n"
   ]
  },
  {
   "cell_type": "code",
   "execution_count": 12,
   "metadata": {},
   "outputs": [
    {
     "name": "stdout",
     "output_type": "stream",
     "text": [
      "5 5\n",
      "253 253\n",
      "7253 7253\n",
      "186253 186253\n"
     ]
    }
   ],
   "source": [
    "p = 5\n",
    "for k in range(4):\n",
    "    n = p**k\n",
    "    print(count_seqs(p=p, n=n), closed_form_count_seqs(p=p, n=n))"
   ]
  },
  {
   "cell_type": "code",
   "execution_count": null,
   "metadata": {},
   "outputs": [],
   "source": []
  }
 ],
 "metadata": {
  "kernelspec": {
   "display_name": "Python 3",
   "language": "python",
   "name": "python3"
  },
  "language_info": {
   "codemirror_mode": {
    "name": "ipython",
    "version": 3
   },
   "file_extension": ".py",
   "mimetype": "text/x-python",
   "name": "python",
   "nbconvert_exporter": "python",
   "pygments_lexer": "ipython3",
   "version": "3.7.4"
  }
 },
 "nbformat": 4,
 "nbformat_minor": 4
}
