{
 "cells": [
  {
   "cell_type": "code",
   "execution_count": 1,
   "metadata": {},
   "outputs": [],
   "source": [
    "import numpy as np"
   ]
  },
  {
   "cell_type": "code",
   "execution_count": 18,
   "metadata": {},
   "outputs": [
    {
     "data": {
      "text/plain": [
       "array([0., 1.])"
      ]
     },
     "execution_count": 18,
     "metadata": {},
     "output_type": "execute_result"
    }
   ],
   "source": [
    "def get_base_probs(p):\n",
    "    counts = np.zeros(p, dtype=np.float64)\n",
    "    row = np.array([1], dtype=np.int64)\n",
    "    for i in range(p):\n",
    "        for x in row:\n",
    "            counts[x] += 1\n",
    "\n",
    "        row = np.concatenate([row, [0]])\n",
    "        row[1:] += row[:len(row) - 1]\n",
    "        row %= p\n",
    "        \n",
    "    return counts / counts.sum()\n",
    "\n",
    "get_base_probs(p=2)"
   ]
  },
  {
   "cell_type": "code",
   "execution_count": 37,
   "metadata": {},
   "outputs": [
    {
     "name": "stdout",
     "output_type": "stream",
     "text": [
      "[0.         0.05555556 0.05555556 0.05555556 0.05555556 0.05555556\n",
      " 0.05555556 0.05555556 0.05555556 0.05555556 0.05555556 0.05555556\n",
      " 0.05555556 0.05555556 0.05555556 0.05555556 0.05555556 0.05555556\n",
      " 0.05555556]\n"
     ]
    }
   ],
   "source": [
    "def transition(cur_probs, base_probs):\n",
    "    p = len(cur_probs)\n",
    "    new_probs = np.zeros(p, dtype=np.float64)\n",
    "    for i, f1 in enumerate(base_probs):\n",
    "        if i == 0:\n",
    "            continue\n",
    "        for j, f2 in enumerate(cur_probs):\n",
    "            new_probs[(i * j) % p] += f1 * f2\n",
    "    \n",
    "    return new_probs\n",
    "\n",
    "base_probs = get_base_probs(p=19)\n",
    "cur_probs = base_probs.copy()\n",
    "for _ in range(100):\n",
    "    cur_probs = transition(cur_probs, base_probs)\n",
    "print(cur_probs)"
   ]
  }
 ],
 "metadata": {
  "kernelspec": {
   "display_name": "Python 3",
   "language": "python",
   "name": "python3"
  },
  "language_info": {
   "codemirror_mode": {
    "name": "ipython",
    "version": 3
   },
   "file_extension": ".py",
   "mimetype": "text/x-python",
   "name": "python",
   "nbconvert_exporter": "python",
   "pygments_lexer": "ipython3",
   "version": "3.7.4"
  }
 },
 "nbformat": 4,
 "nbformat_minor": 4
}
