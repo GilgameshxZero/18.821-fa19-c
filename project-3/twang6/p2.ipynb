{
 "cells": [
  {
   "cell_type": "code",
   "execution_count": 1,
   "metadata": {},
   "outputs": [],
   "source": [
    "import numpy as np"
   ]
  },
  {
   "cell_type": "code",
   "execution_count": 2,
   "metadata": {},
   "outputs": [
    {
     "data": {
      "text/plain": [
       "['11110000', '10100000', '11000000', '10000000']"
      ]
     },
     "execution_count": 2,
     "metadata": {},
     "output_type": "execute_result"
    }
   ],
   "source": [
    "def get_new_patterns(old_patterns):\n",
    "    zs = len(old_patterns) * \"0\"\n",
    "    new_patterns = []\n",
    "    for op in old_patterns:\n",
    "        rep = (len(zs) // len(op)) * op\n",
    "        new_patterns.append(rep + zs)\n",
    "    return new_patterns\n",
    "\n",
    "get_new_patterns([\"1\", \"10\", \"1100\", \"1000\"])"
   ]
  },
  {
   "cell_type": "code",
   "execution_count": 3,
   "metadata": {},
   "outputs": [
    {
     "name": "stdout",
     "output_type": "stream",
     "text": [
      "[0, 2, 4, 8, 14, 22, 32, 44, 58, 74, 92, 112, 134, 158, 184, 212, 242, 274, 308, 344, 382, 422, 464, 508, 554, 602, 652, 704, 758, 814]\n"
     ]
    }
   ],
   "source": [
    "cs = [0]\n",
    "\n",
    "patterns = [\"1\"]\n",
    "for n in range(1, 30):\n",
    "    while 2 * n > len(patterns):\n",
    "        patterns.extend(get_new_patterns(patterns))\n",
    "    \n",
    "    ss = set()\n",
    "    for p in patterns:\n",
    "        rep = (n // len(p) + 2) * p\n",
    "        for i in range(len(p)):\n",
    "            ss.add(rep[i:i + n])\n",
    "    \n",
    "    cs.append(len(ss))\n",
    "    \n",
    "print(cs)"
   ]
  },
  {
   "cell_type": "code",
   "execution_count": 4,
   "metadata": {},
   "outputs": [
    {
     "name": "stdout",
     "output_type": "stream",
     "text": [
      "[2, 2, 4, 8, 14, 22, 32, 44, 58, 74, 92, 112, 134, 158, 184, 212, 242, 274, 308, 344, 382, 422, 464, 508, 554, 602, 652, 704, 758, 814]\n"
     ]
    }
   ],
   "source": [
    "print([n * n - n + 2 for n in range(30)])"
   ]
  },
  {
   "cell_type": "markdown",
   "metadata": {},
   "source": [
    "### Hypothesis\n",
    "Let $C_2(n)$ denote the number of binary strings of length $n$\n",
    "that appear in a row of Pascal's triangle mod 2.\n",
    "Then for $n \\geq 1$ we have\n",
    "$C_2(n) = n^2 - n + 2.$"
   ]
  }
 ],
 "metadata": {
  "kernelspec": {
   "display_name": "Python 3",
   "language": "python",
   "name": "python3"
  },
  "language_info": {
   "codemirror_mode": {
    "name": "ipython",
    "version": 3
   },
   "file_extension": ".py",
   "mimetype": "text/x-python",
   "name": "python",
   "nbconvert_exporter": "python",
   "pygments_lexer": "ipython3",
   "version": "3.7.4"
  }
 },
 "nbformat": 4,
 "nbformat_minor": 4
}
