{
 "cells": [
  {
   "cell_type": "code",
   "execution_count": 1,
   "metadata": {},
   "outputs": [],
   "source": [
    "import matplotlib.pyplot as plt\n",
    "import numpy as np"
   ]
  },
  {
   "cell_type": "code",
   "execution_count": 2,
   "metadata": {},
   "outputs": [
    {
     "ename": "SyntaxError",
     "evalue": "invalid syntax (<ipython-input-2-2b096ab5de45>, line 8)",
     "output_type": "error",
     "traceback": [
      "\u001b[0;36m  File \u001b[0;32m\"<ipython-input-2-2b096ab5de45>\"\u001b[0;36m, line \u001b[0;32m8\u001b[0m\n\u001b[0;31m    new dists\u001b[0m\n\u001b[0m            ^\u001b[0m\n\u001b[0;31mSyntaxError\u001b[0m\u001b[0;31m:\u001b[0m invalid syntax\n"
     ]
    }
   ],
   "source": [
    "def perturb_and_(base_poly, num_samples=100, stdev=1, hist2dbins=512):\n",
    "    perturb = np.random.normal(\n",
    "        size=(num_samples, base_poly.shape[0], 2),\n",
    "        scale=stdev\n",
    "    ).view(np.complex128)[:, :, 0]\n",
    "    perturb[:, 0] = 0\n",
    "    \n",
    "    polys = base_poly + perturb\n",
    "    \n",
    "    roots = np.zeros((num_samples, base_poly.shape[0] - 1), dtype=np.complex128)\n",
    "    for i in range(num_samples):\n",
    "        roots[i] = np.roots(polys[i])\n",
    "        \n",
    "    plt.figure(figsize=(18,4))\n",
    "    plt.subplot(1, 3, 1)\n",
    "    root_radii = np.absolute(roots.flatten())\n",
    "    plt.hist(\n",
    "        root_radii,\n",
    "        bins=256,\n",
    "        range=(np.percentile(root_radii, 1) - 0.1, np.percentile(root_radii, 99) + 0.1),\n",
    "        density=True,\n",
    "    )\n",
    "    plt.xlabel(\"radius\")\n",
    "    plt.title(f\"deg={base_poly.shape[0] - 1}\")\n",
    "\n",
    "    plt.subplot(1, 3, 2)\n",
    "    plt.hist(\n",
    "        np.angle(roots.flatten()),\n",
    "        bins=64,\n",
    "        density=True,\n",
    "    )\n",
    "    plt.xlabel(\"angle\")\n",
    "    plt.title(f\"deg={base_poly.shape[0] - 1}\")\n",
    "\n",
    "    plt.subplot(1, 3, 3)\n",
    "    plt.hist2d(\n",
    "        x=roots.flatten().real,\n",
    "        y=roots.flatten().imag,\n",
    "        bins=hist2dbins,\n",
    "    )\n",
    "    plt.axis('square')\n",
    "    plt.xlim(-1.5, 1.5)\n",
    "    plt.ylim(-1.5, 1.5)\n",
    "    plt.title(f\"deg={base_poly.shape[0] - 1}\")"
   ]
  },
  {
   "cell_type": "code",
   "execution_count": 20,
   "metadata": {},
   "outputs": [
    {
     "name": "stdout",
     "output_type": "stream",
     "text": [
      "[ 1.11885022 -0.38362093  0.05604522 ...  0.09470969  0.64777127\n",
      " -0.32454273]\n"
     ]
    }
   ],
   "source": [
    "num_samples = 1024\n",
    "stdev = 1\n",
    "\"\"\"\n",
    "perturbs = np.random.normal(\n",
    "    size=(num_samples, 2),\n",
    "    scale=stdev\n",
    ").view(np.complex128)[:, 0]\n",
    "\"\"\"\n",
    "R = np.random.normal(\n",
    "    size=(num_samples),\n",
    "    scale=stdev,\n",
    ")\n",
    "print(R)"
   ]
  },
  {
   "cell_type": "code",
   "execution_count": 21,
   "metadata": {},
   "outputs": [
    {
     "data": {
      "text/plain": [
       "array([1.5, 1.5, 1.5, ..., 1.5, 1.5, 1.5])"
      ]
     },
     "execution_count": 21,
     "metadata": {},
     "output_type": "execute_result"
    }
   ],
   "source": [
    "r = np.full((num_samples, ), 1.5)\n",
    "r"
   ]
  },
  {
   "cell_type": "code",
   "execution_count": 27,
   "metadata": {},
   "outputs": [
    {
     "data": {
      "text/plain": [
       "array([0.38184696, 0.89575308, 0.64265485, ..., 0.62707338, 0.46559893,\n",
       "       0.85073276])"
      ]
     },
     "execution_count": 27,
     "metadata": {},
     "output_type": "execute_result"
    }
   ],
   "source": [
    "denom = r+R\n",
    "denom = np.absolute(denom)\n",
    "denom = 1/denom\n",
    "denom"
   ]
  },
  {
   "cell_type": "code",
   "execution_count": null,
   "metadata": {},
   "outputs": [],
   "source": []
  }
 ],
 "metadata": {
  "kernelspec": {
   "display_name": "Python 3",
   "language": "python",
   "name": "python3"
  },
  "language_info": {
   "codemirror_mode": {
    "name": "ipython",
    "version": 3
   },
   "file_extension": ".py",
   "mimetype": "text/x-python",
   "name": "python",
   "nbconvert_exporter": "python",
   "pygments_lexer": "ipython3",
   "version": "3.7.4"
  }
 },
 "nbformat": 4,
 "nbformat_minor": 4
}
