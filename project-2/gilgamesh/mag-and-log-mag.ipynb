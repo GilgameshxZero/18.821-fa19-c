{
 "cells": [
  {
   "cell_type": "code",
   "execution_count": 1,
   "metadata": {},
   "outputs": [],
   "source": [
    "import matplotlib.pyplot as plt\n",
    "import numpy as np"
   ]
  },
  {
   "cell_type": "code",
   "execution_count": 2,
   "metadata": {},
   "outputs": [
    {
     "name": "stdout",
     "output_type": "stream",
     "text": [
      "(1034, 2000)\n",
      "[[  0   0   0 ...   0   0   0]\n",
      " [  0   0   0 ...   0   0   0]\n",
      " [  0   0   0 ...   0   0   0]\n",
      " ...\n",
      " [  0   0   0 ... 255 255 255]\n",
      " [  0   0   0 ... 255 255 255]\n",
      " [  0   0   0 ... 255 255 255]]\n",
      "(2068000,)\n",
      "[9.30997955e-07 9.30997955e-07 9.30997955e-07 ... 0.00000000e+00\n",
      " 0.00000000e+00 0.00000000e+00]\n"
     ]
    }
   ],
   "source": [
    "import imageio\n",
    "\n",
    "# roman = imageio.imread(\"roman-bw.jpg\")\n",
    "roman = imageio.imread(\"mit-gray.png\")\n",
    "print(roman.shape)\n",
    "print(roman)\n",
    "roman = 255 - roman\n",
    "roman_flat = roman.reshape((roman.shape[0] * roman.shape[1],))\n",
    "roman_flat = roman_flat / np.sum(roman_flat)\n",
    "print(roman_flat.shape)\n",
    "print(roman_flat)"
   ]
  },
  {
   "cell_type": "code",
   "execution_count": 3,
   "metadata": {},
   "outputs": [
    {
     "name": "stdout",
     "output_type": "stream",
     "text": [
      "[-1.   +0.517j -0.999+0.517j -0.998+0.517j ...  0.997-0.516j  0.998-0.516j\n",
      "  0.999-0.516j]\n",
      "Samples: [[ 0.672+0.351j  0.235-0.208j -0.082+0.12j   0.462-0.281j -0.912+0.307j]\n",
      " [-0.173+0.07j   0.469+0.169j  0.463-0.431j  0.922+0.343j -0.236+0.112j]\n",
      " [ 0.251-0.403j  0.069-0.314j  0.644+0.185j  0.074-0.463j -0.938+0.279j]\n",
      " [-0.168+0.299j  0.155+0.183j -0.628+0.513j  0.526-0.434j  0.613+0.099j]\n",
      " [-0.123-0.347j -0.847-0.189j -0.159+0.062j  0.579+0.472j -0.964-0.113j]]\n"
     ]
    }
   ],
   "source": [
    "# position the roman picture such that its lower right is (0.01, -0.01) and its flipped\n",
    "# and each pixel is length 0.01\n",
    "SCALE = 0.001\n",
    "X = roman.shape[1]\n",
    "Y = roman.shape[0]\n",
    "roman_pos = np.array([[SCALE * (-X/2 + b + Y/2 * 1j - a * 1j) for b in range(roman.shape[1])] for a in range(roman.shape[0])])\n",
    "roman_pos = roman_pos.reshape((roman_flat.shape[0],))\n",
    "print(roman_pos)\n",
    "\n",
    "def sample_from_roman(size=None):\n",
    "    return np.random.choice(a=roman_pos, size=size, p=roman_flat)\n",
    "\n",
    "print(\"Samples:\", sample_from_roman((5, 5)))"
   ]
  },
  {
   "cell_type": "code",
   "execution_count": 19,
   "metadata": {},
   "outputs": [],
   "source": [
    "def perturb_and_plot_roots(base_poly, num_samples=100, stdev=1, hist2dbins=512):\n",
    "    # perturb = np.random.normal(\n",
    "    #     size=(num_samples, base_poly.shape[0], 2),\n",
    "    #     scale=stdev\n",
    "    # ).view(np.complex128)[:, :, 0]\n",
    "    perturb = sample_from_roman((num_samples, base_poly.shape[0]))\n",
    "    perturb[:, 0] = 0\n",
    "    \n",
    "    polys = base_poly + perturb\n",
    "    \n",
    "    roots = np.zeros((num_samples, base_poly.shape[0] - 1), dtype=np.complex128)\n",
    "    for i in range(num_samples):\n",
    "        roots[i] = np.roots(polys[i])\n",
    "        \n",
    "    plt.figure(figsize=(12,4))\n",
    "    \n",
    "    plt.subplot(1, 2, 1)\n",
    "    root_radii = np.absolute(roots.flatten())\n",
    "    plt.hist(\n",
    "        root_radii,\n",
    "        bins=256,\n",
    "        range=(0, 2),\n",
    "        density=True,\n",
    "    )\n",
    "    plt.xticks([0, 1, 2], size = 15)\n",
    "    plt.yticks([])\n",
    "    \n",
    "    plt.subplot(1, 2, 2)\n",
    "    root_radii = np.log(np.absolute(roots.flatten()))\n",
    "    plt.hist(\n",
    "        root_radii,\n",
    "        bins=256,\n",
    "        range=(-3, 3),\n",
    "        density=True,\n",
    "    )\n",
    "    plt.xticks([-3, 0, 3], size = 15)\n",
    "    plt.yticks([])\n",
    "    \n",
    "    plt.savefig(f\"img/mag-and-log-{base_poly.shape[0] - 1}.png\", dpi=300, transparent=True)"
   ]
  },
  {
   "cell_type": "code",
   "execution_count": 20,
   "metadata": {},
   "outputs": [
    {
     "name": "stdout",
     "output_type": "stream",
     "text": [
      "CPU times: user 3.84 s, sys: 32.9 ms, total: 3.87 s\n",
      "Wall time: 3.37 s\n"
     ]
    },
    {
     "data": {
      "image/png": "[encoded data removed]",
      "text/plain": [
       "<Figure size 864x288 with 2 Axes>"
      ]
     },
     "metadata": {
      "needs_background": "light"
     },
     "output_type": "display_data"
    }
   ],
   "source": [
    "%%time\n",
    "perturb_and_plot_roots(\n",
    "    base_poly=np.array([1] + 1 * [0], dtype=np.complex128),\n",
    "    num_samples=50000,\n",
    "    hist2dbins=100,\n",
    ")"
   ]
  },
  {
   "cell_type": "code",
   "execution_count": 21,
   "metadata": {},
   "outputs": [
    {
     "name": "stdout",
     "output_type": "stream",
     "text": [
      "CPU times: user 2.34 s, sys: 11.2 ms, total: 2.35 s\n",
      "Wall time: 1.87 s\n"
     ]
    },
    {
     "data": {
      "image/png": "[encoded data removed]",
      "text/plain": [
       "<Figure size 864x288 with 2 Axes>"
      ]
     },
     "metadata": {
      "needs_background": "light"
     },
     "output_type": "display_data"
    }
   ],
   "source": [
    "%%time\n",
    "perturb_and_plot_roots(\n",
    "    base_poly=np.array([1] + 10 * [0], dtype=np.complex128),\n",
    "    num_samples=10000,\n",
    "    hist2dbins=100,\n",
    ")"
   ]
  },
  {
   "cell_type": "code",
   "execution_count": 22,
   "metadata": {},
   "outputs": [
    {
     "name": "stdout",
     "output_type": "stream",
     "text": [
      "CPU times: user 3min, sys: 1.87 s, total: 3min 2s\n",
      "Wall time: 49.5 s\n"
     ]
    },
    {
     "data": {
      "image/png": "[encoded data removed]",
      "text/plain": [
       "<Figure size 864x288 with 2 Axes>"
      ]
     },
     "metadata": {
      "needs_background": "light"
     },
     "output_type": "display_data"
    }
   ],
   "source": [
    "%%time\n",
    "perturb_and_plot_roots(\n",
    "    base_poly=np.array([1] + 100 * [0], dtype=np.complex128),\n",
    "    num_samples=5000,\n",
    "    hist2dbins=100,\n",
    ")"
   ]
  },
  {
   "cell_type": "code",
   "execution_count": null,
   "metadata": {},
   "outputs": [],
   "source": []
  }
 ],
 "metadata": {
  "kernelspec": {
   "display_name": "Python 3",
   "language": "python",
   "name": "python3"
  },
  "language_info": {
   "codemirror_mode": {
    "name": "ipython",
    "version": 3
   },
   "file_extension": ".py",
   "mimetype": "text/x-python",
   "name": "python",
   "nbconvert_exporter": "python",
   "pygments_lexer": "ipython3",
   "version": "3.7.4"
  }
 },
 "nbformat": 4,
 "nbformat_minor": 4
}
