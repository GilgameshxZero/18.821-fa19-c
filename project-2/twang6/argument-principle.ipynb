{
 "cells": [
  {
   "cell_type": "code",
   "execution_count": 1,
   "metadata": {},
   "outputs": [],
   "source": [
    "import numpy as np\n",
    "import matplotlib.pyplot as plt"
   ]
  },
  {
   "cell_type": "code",
   "execution_count": 2,
   "metadata": {},
   "outputs": [
    {
     "name": "stdout",
     "output_type": "stream",
     "text": [
      "   4                    3                        2\n",
      "1 x + (0.458 + 1.077j) x + (-0.1656 + -0.1656j) x + (1.117 + 0.5427j) x + (-0.332 + 0.3836j)\n",
      "   3                    2\n",
      "4 x + (1.374 + 3.231j) x + (-0.3311 + -0.3311j) x + (1.117 + 0.5427j)\n",
      "[7.57870311+4.45981422j 1.17927235-6.12594922j]\n",
      "[17.21135624 +7.3153558j  10.27959581-10.10261624j]\n"
     ]
    }
   ],
   "source": [
    "def get_random_polys(deg, num_samples, stdev=np.sqrt(0.5)):\n",
    "    polys = np.random.normal(\n",
    "        size=(num_samples, deg + 1, 2),\n",
    "        scale=stdev\n",
    "    ).view(np.complex128)[:, :, 0]\n",
    "    polys[:, 0] = 1\n",
    "    return polys\n",
    "\n",
    "def get_poly_derivs(polys):\n",
    "    derivs = polys[:, :-1] * np.flip(np.arange(polys.shape[1] - 1) + 1)\n",
    "    return derivs\n",
    "\n",
    "def eval_polys(polys, z):\n",
    "    ret = np.zeros(polys.shape[0], dtype=polys.dtype)\n",
    "    for i, poly in enumerate(polys):\n",
    "        ret[i] = np.polyval(poly, z)\n",
    "    \n",
    "    return ret\n",
    "\n",
    "np.random.seed(42)\n",
    "polys = get_random_polys(deg=4, num_samples=2)\n",
    "derivs = get_poly_derivs(polys)\n",
    "\n",
    "print(np.poly1d(polys[0]))\n",
    "print(np.poly1d(derivs[0]))\n",
    "print(eval_polys(polys, 1.5))\n",
    "print(eval_polys(derivs, 1.5))"
   ]
  },
  {
   "cell_type": "code",
   "execution_count": 3,
   "metadata": {},
   "outputs": [
    {
     "name": "stdout",
     "output_type": "stream",
     "text": [
      "avg_poly_log=12.234142977435518 avg_deriv_log=15.214157762802698\n",
      "19.68810773851242\n",
      "(17.270160507226922-9.41347635526785j) 19.66906151895833 -0.4990516421138857\n",
      "CPU times: user 716 ms, sys: 57.3 ms, total: 774 ms\n",
      "Wall time: 806 ms\n"
     ]
    },
    {
     "data": {
      "text/plain": [
       "(-20, 20)"
      ]
     },
     "execution_count": 3,
     "metadata": {},
     "output_type": "execute_result"
    },
    {
     "data": {
      "image/png": "[encoded data removed]",
      "text/plain": [
       "<Figure size 432x288 with 1 Axes>"
      ]
     },
     "metadata": {
      "needs_background": "light"
     },
     "output_type": "display_data"
    }
   ],
   "source": [
    "%%time\n",
    "num_samples = 10000\n",
    "polys = get_random_polys(deg=30, num_samples=num_samples)\n",
    "derivs = get_poly_derivs(polys)\n",
    "z = 1.5 * np.exp(1j * 0.5)\n",
    "\n",
    "poly_vals = eval_polys(polys, z)\n",
    "deriv_vals = eval_polys(derivs, z)\n",
    "\n",
    "avg_poly_log = np.log(np.absolute(poly_vals)).sum() / num_samples\n",
    "avg_deriv_log = np.log(np.absolute(deriv_vals)).sum() / num_samples\n",
    "print(f\"avg_poly_log={avg_poly_log} avg_deriv_log={avg_deriv_log}\")\n",
    "print(np.exp(avg_deriv_log - avg_poly_log))\n",
    "\n",
    "qs = deriv_vals / poly_vals\n",
    "avg_q = qs.sum() / num_samples\n",
    "print(avg_q, np.absolute(avg_q), np.angle(avg_q))\n",
    "\n",
    "plt.hist2d(\n",
    "    x=qs.flatten().real,\n",
    "    y=qs.flatten().imag,\n",
    "    bins=1024,\n",
    ")\n",
    "plt.axis('square')\n",
    "plt.xlim(-20, 20)\n",
    "plt.ylim(-20, 20)"
   ]
  },
  {
   "cell_type": "code",
   "execution_count": 20,
   "metadata": {},
   "outputs": [
    {
     "data": {
      "image/png": "[encoded data removed]",
      "text/plain": [
       "<Figure size 432x288 with 1 Axes>"
      ]
     },
     "metadata": {
      "needs_background": "light"
     },
     "output_type": "display_data"
    },
    {
     "data": {
      "image/png": "[encoded data removed]",
      "text/plain": [
       "<Figure size 432x288 with 1 Axes>"
      ]
     },
     "metadata": {
      "needs_background": "light"
     },
     "output_type": "display_data"
    },
    {
     "name": "stdout",
     "output_type": "stream",
     "text": [
      "CPU times: user 15 s, sys: 306 ms, total: 15.3 s\n",
      "Wall time: 14.2 s\n"
     ]
    }
   ],
   "source": [
    "%%time\n",
    "num_samples = 1000000\n",
    "polys = get_random_polys(deg=1, num_samples=num_samples)\n",
    "#derivs = get_poly_derivs(polys)\n",
    "z = 0\n",
    "\n",
    "poly_vals = eval_polys(polys, z)\n",
    "#deriv_vals = eval_polys(derivs, z)\n",
    "\n",
    "qs = 1 / poly_vals\n",
    "avg_qs = qs.cumsum() / (np.arange(qs.shape[0], dtype=np.complex128) + 1)\n",
    "plt.plot(np.absolute(avg_qs))\n",
    "plt.show()\n",
    "plt.plot(np.angle(avg_qs))\n",
    "plt.show()"
   ]
  },
  {
   "cell_type": "code",
   "execution_count": 94,
   "metadata": {},
   "outputs": [
    {
     "data": {
      "text/plain": [
       "array([1.        , 0.5       , 0.33333333, 0.25      , 0.2       ])"
      ]
     },
     "execution_count": 94,
     "metadata": {},
     "output_type": "execute_result"
    }
   ],
   "source": [
    "1 / (np.arange(5) + 1)"
   ]
  },
  {
   "cell_type": "code",
   "execution_count": null,
   "metadata": {},
   "outputs": [],
   "source": []
  }
 ],
 "metadata": {
  "kernelspec": {
   "display_name": "Python 3",
   "language": "python",
   "name": "python3"
  },
  "language_info": {
   "codemirror_mode": {
    "name": "ipython",
    "version": 3
   },
   "file_extension": ".py",
   "mimetype": "text/x-python",
   "name": "python",
   "nbconvert_exporter": "python",
   "pygments_lexer": "ipython3",
   "version": "3.7.4"
  }
 },
 "nbformat": 4,
 "nbformat_minor": 4
}
