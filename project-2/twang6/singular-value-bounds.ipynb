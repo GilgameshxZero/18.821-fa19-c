{
 "cells": [
  {
   "cell_type": "code",
   "execution_count": 8,
   "metadata": {},
   "outputs": [],
   "source": [
    "import matplotlib.pyplot as plt\n",
    "import numpy as np\n",
    "import scipy.linalg"
   ]
  },
  {
   "cell_type": "code",
   "execution_count": 19,
   "metadata": {},
   "outputs": [
    {
     "name": "stdout",
     "output_type": "stream",
     "text": [
      "[[3.90932711 1.         1.         1.         1.         1.\n",
      "  1.         1.         1.         1.         1.         1.\n",
      "  1.         1.         1.         1.         0.3190735 ]\n",
      " [4.34857889 1.         1.         1.         1.         1.\n",
      "  1.         1.         1.         1.         1.         1.\n",
      "  1.         1.         1.         1.         0.25691758]\n",
      " [3.70811884 1.         1.         1.         1.         1.\n",
      "  1.         1.         1.         1.         1.         1.\n",
      "  1.         1.         1.         1.         0.11930111]\n",
      " [4.00105314 1.         1.         1.         1.         1.\n",
      "  1.         1.         1.         1.         1.         1.\n",
      "  1.         1.         1.         1.         0.1052256 ]\n",
      " [3.72460874 1.         1.         1.         1.         1.\n",
      "  1.         1.         1.         1.         1.         1.\n",
      "  1.         1.         1.         1.         0.07857319]]\n"
     ]
    },
    {
     "data": {
      "text/plain": [
       "array([1.24736268, 1.11722636, 0.44238268, 0.42101321, 0.29265437])"
      ]
     },
     "execution_count": 19,
     "metadata": {},
     "output_type": "execute_result"
    }
   ],
   "source": [
    "def get_random_polys(deg, num_samples, stdev=np.sqrt(0.5)):\n",
    "    polys = np.random.normal(\n",
    "        size=(num_samples, deg + 1, 2),\n",
    "        scale=stdev\n",
    "    ).view(np.complex128)[:, :, 0]\n",
    "    polys[:, 0] = 1\n",
    "    return polys\n",
    "\n",
    "def singular_values(polys):\n",
    "    num_polys = polys.shape[0]\n",
    "    deg = polys.shape[1] - 1\n",
    "\n",
    "    companion_mats = np.zeros((num_polys, deg, deg), dtype=polys.dtype)\n",
    "    for i, poly in enumerate(polys):\n",
    "        companion_mats[i] = scipy.linalg.companion(poly)\n",
    "        \n",
    "    svs = np.linalg.svd(companion_mats, compute_uv=False)\n",
    "    return svs\n",
    "\n",
    "svs = singular_values(get_random_polys(deg=17, num_samples=5))\n",
    "print(svs)\n",
    "svs[:, 0] * svs[:, -1]"
   ]
  },
  {
   "cell_type": "code",
   "execution_count": 6,
   "metadata": {},
   "outputs": [
    {
     "ename": "TypeError",
     "evalue": "data type not understood",
     "output_type": "error",
     "traceback": [
      "\u001b[0;31m---------------------------------------------------------------------------\u001b[0m",
      "\u001b[0;31mTypeError\u001b[0m                                 Traceback (most recent call last)",
      "\u001b[0;32m<ipython-input-6-3c618c235682>\u001b[0m in \u001b[0;36m<module>\u001b[0;34m\u001b[0m\n\u001b[0;32m----> 1\u001b[0;31m \u001b[0mnp\u001b[0m\u001b[0;34m.\u001b[0m\u001b[0mzeros\u001b[0m\u001b[0;34m(\u001b[0m\u001b[0;36m4\u001b[0m\u001b[0;34m,\u001b[0m \u001b[0;36m5\u001b[0m\u001b[0;34m)\u001b[0m\u001b[0;34m\u001b[0m\u001b[0;34m\u001b[0m\u001b[0m\n\u001b[0m",
      "\u001b[0;31mTypeError\u001b[0m: data type not understood"
     ]
    }
   ],
   "source": [
    "np.zeros(4, 5)"
   ]
  },
  {
   "cell_type": "code",
   "execution_count": null,
   "metadata": {},
   "outputs": [],
   "source": []
  }
 ],
 "metadata": {
  "kernelspec": {
   "display_name": "Python 3",
   "language": "python",
   "name": "python3"
  },
  "language_info": {
   "codemirror_mode": {
    "name": "ipython",
    "version": 3
   },
   "file_extension": ".py",
   "mimetype": "text/x-python",
   "name": "python",
   "nbconvert_exporter": "python",
   "pygments_lexer": "ipython3",
   "version": "3.7.4"
  }
 },
 "nbformat": 4,
 "nbformat_minor": 4
}
